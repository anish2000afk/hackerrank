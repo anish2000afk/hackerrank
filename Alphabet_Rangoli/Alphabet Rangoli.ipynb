{
 "cells": [
  {
   "cell_type": "markdown",
   "id": "62191670-b726-44e2-9df7-b1532b34d381",
   "metadata": {},
   "source": [
    "### Problems"
   ]
  },
  {
   "cell_type": "markdown",
   "id": "dc37b575-5773-4340-8e94-fbc50dbdd743",
   "metadata": {},
   "source": [
    "1. Modulating Natural numbers to their ASCII constructs (**DONE**)\n",
    "2. Every fold requires a gap of - in the sequence.\n",
    "3. Incrementing and decrementing the chr(ASCII) values in a single line."
   ]
  },
  {
   "cell_type": "markdown",
   "id": "978c65ce-83a2-43e5-859b-a9aa241136ba",
   "metadata": {},
   "source": [
    "### Solutions"
   ]
  },
  {
   "cell_type": "markdown",
   "id": "39351b1d-73fd-4e6d-8488-b76750df5e54",
   "metadata": {},
   "source": [
    "### 1. Modulating Natural numbers to their ASCII constructs"
   ]
  },
  {
   "cell_type": "markdown",
   "id": "732e9ea8-0784-41bf-b2cf-6b2ddf3e0657",
   "metadata": {},
   "source": [
    " We could use ASII value of 97 as the base "
   ]
  },
  {
   "cell_type": "markdown",
   "id": "8aaf6baf-823c-4e18-b044-a87f14d94807",
   "metadata": {},
   "source": [
    "For ASCII and integer conversion : https://stackoverflow.com/questions/3673428/convert-int-to-ascii-and-back-in-python"
   ]
  },
  {
   "cell_type": "markdown",
   "id": "bbefb700-9134-43eb-94dc-739b0f22d881",
   "metadata": {},
   "source": [
    " **Hypothesis**: <br>\n",
    " If we take c which has a numberical (Whole numbers) value of 3 or simply N = 3<br>\n",
    " If we take the value of 97 + 3  = 100 ; which is ASCII is \"d\"<br>\n",
    " Now if we reduce the value of 100 - 1 or in the earlier step we could simply reduce the value of N = N -1 , we obtain \"c\"<br>\n",
    " This way we can circulate back by keeping the final ASCII value as 97 in the stop argument of the for loop."
   ]
  },
  {
   "cell_type": "markdown",
   "id": "71481464-9be9-42c3-a717-45d55f68ce61",
   "metadata": {},
   "source": [
    "### Experiment 1"
   ]
  },
  {
   "cell_type": "markdown",
   "id": "f59bb203-9218-4bcb-a85d-c685d7ca9818",
   "metadata": {},
   "source": [
    "Let's look at the simpler form the program could take <br>\n",
    "\n",
    "<p style = \"text-align: center;\">--b--<br>\n",
    "b-a-b<br>\n",
    "--b--<br></p>\n",
    "\n",
    "This represents a the value that could be represented if the value of N = 2."
   ]
  },
  {
   "cell_type": "markdown",
   "id": "494f50ad-d269-40e9-9515-8cfb48766463",
   "metadata": {},
   "source": [
    "An even more simpler version would look like this <br>\n",
    "<p style = \"text-align: center;\">--b--<br>\n",
    "-bab-<br>\n",
    "--b--<br></p> <br>\n",
    "\n",
    "The above output does not take into accout the alternating space of '-'"
   ]
  },
  {
   "cell_type": "markdown",
   "id": "c3fb788d-6ad3-4558-af1d-4cf47aa10272",
   "metadata": {},
   "source": [
    "If we divide the problem into 3 halves <br>\n",
    "\n",
    "<p style = \"text-align: center;\"> The upper pyramid --b--<br>\n",
    "The middle pyramid -bab-<br>\n",
    "The lower pyramid  --b--<br> </p>\n"
   ]
  },
  {
   "cell_type": "markdown",
   "id": "73b77004-ff2b-48cc-936e-44ff0b704425",
   "metadata": {},
   "source": [
    "### The upper pyramid"
   ]
  },
  {
   "cell_type": "code",
   "execution_count": null,
   "id": "615015ba-1269-40a8-9874-541556879794",
   "metadata": {},
   "outputs": [],
   "source": []
  },
  {
   "cell_type": "markdown",
   "id": "c8bf56d2-320d-4889-bc4f-a21997956564",
   "metadata": {},
   "source": [
    "### Relation of N with number of rows"
   ]
  },
  {
   "cell_type": "markdown",
   "id": "54918533-55e5-4322-ae74-5f455f6ae738",
   "metadata": {},
   "source": [
    "If we take value of N  = { 2, 3, 4, 5 ...} <br>\n",
    "Their Row value would be = { 3, 5, 7, 9...} <br>\n",
    "\n",
    "### <p style = \"text-align: center;\"> IN CASE OF TOTAL ROWS </p><br>\n",
    "\n",
    "Basically the row values are an AP with the cd = 2<br>\n",
    "The row values can be computed from N as <br>\n",
    "                    <p style = \"text-align: center;\"> ***Row_val = N + (N-1)*** </p> <br>\n",
    "                                                    OR \n",
    "                                               $$ (N * 2) -1 $$\n",
    "                                                    \n",
    "### <p style = \"text-align: center;\"> IN CASE OF UPPER AND LOWER ROWS </p><br>\n",
    "The mathematical equation ***NOT INCLUDNG MIDDLE LINE*** can be written as \n",
    "$$ N = N - 1 $$"
   ]
  },
  {
   "cell_type": "code",
   "execution_count": null,
   "id": "0e84cfc6-6c45-47a6-85ad-ddb9d0498d76",
   "metadata": {},
   "outputs": [],
   "source": []
  },
  {
   "cell_type": "markdown",
   "id": "a7056c5a-e188-4172-9c93-2da3fb525063",
   "metadata": {},
   "source": [
    "### Relation of N with the thickness on each side"
   ]
  },
  {
   "cell_type": "markdown",
   "id": "9cbb3177-e50c-4490-8c83-83491a1a6ee8",
   "metadata": {},
   "source": [
    "If we divide the upper pyramid of the output into 3 halves the LHS, Center , RHS<br>\n",
    "The thickeness of RHS = LHS  ; *excluding the center*<br>\n",
    "\n",
    "| N|  One-sided Thickenss |\n",
    "| -| - |\n",
    "| 2 | 2 |\n",
    "| 3 | 4 |\n",
    "| 4 | 6 |\n",
    "\n",
    "This can be written Mathematically as \n",
    "\n",
    "$$| N + 1 | N + 2 |$$\n",
    "\n",
    "For looping constructs for rjust and ljust <ins>**Which we will be using** </ins>  can also written as \n",
    "\n",
    "$$  (N * 2) - 2 $$\n"
   ]
  },
  {
   "cell_type": "markdown",
   "id": "3ac84f4c-d1da-4482-b062-2de7fd07bd8d",
   "metadata": {},
   "source": [
    "If we want to find out the total thichness \n",
    "| N | Total-thickness | \n",
    "| - | - |\n",
    "| 2 | 4 |\n",
    "| 3 | 8 |\n",
    "| 4 | 12 | \n",
    "\n",
    "This can be written mathematically as \n",
    "$$ N + 4 $$"
   ]
  },
  {
   "cell_type": "markdown",
   "id": "049c820c-ca15-46ef-9d53-31c794fb53b5",
   "metadata": {},
   "source": [
    "# IDEAL Solving 1"
   ]
  },
  {
   "cell_type": "markdown",
   "id": "30e5a980-43be-40f1-a823-48e68db893bc",
   "metadata": {},
   "source": [
    "**I = Converging the N, char and ASCII<br>**\n",
    "\n",
    "**D1 = Solve the problem using different data structures<br>\n",
    "D2 = Without using any complex data structures<br>**\n",
    "\n",
    "**E1 = Double looping using for.(Use start, stop and step)<br>\n",
    "E2 = Using an equation <br>\n",
    "E3 = Autopopulate into a dictionary or a list and match indexes<br>**\n",
    "\n",
    "**A = <br>\n",
    "L = <br>**"
   ]
  },
  {
   "cell_type": "markdown",
   "id": "231d5d6a-3f72-4d6a-8472-2e639004db78",
   "metadata": {},
   "source": [
    "## D1E2 > Using an mathematical equation << PASSED >>"
   ]
  },
  {
   "cell_type": "markdown",
   "id": "1f8cd73f-15d6-40cd-ac96-39290a4d0091",
   "metadata": {},
   "source": [
    "If we try to create an equation which can match N integer values with ASCII values we come up with "
   ]
  },
  {
   "cell_type": "markdown",
   "id": "b8ad0075-2396-4d99-ab97-6ffa0a9f64e7",
   "metadata": {},
   "source": [
    " $$ N + 100 - 4 $$ or $$ N + 96 $$\n",
    "\n",
    "Where N is the integer <br>\n",
    "4 is the constant"
   ]
  },
  {
   "cell_type": "markdown",
   "id": "355bd0d5-d659-4f21-b2ca-f2040e741164",
   "metadata": {},
   "source": [
    "### PROS"
   ]
  },
  {
   "cell_type": "markdown",
   "id": "30d6f2f2-4e74-44de-8b3a-cd9b9f29ffdf",
   "metadata": {},
   "source": [
    "Takes the least amt. of time and least amount of storage."
   ]
  },
  {
   "cell_type": "markdown",
   "id": "40e0421f-16a2-40d9-822a-0210f801e1dc",
   "metadata": {},
   "source": [
    "### CONS"
   ]
  },
  {
   "cell_type": "markdown",
   "id": "462a9884-6961-468d-84a1-fdd8899a9ce3",
   "metadata": {},
   "source": [
    "The problem with this approach is that if we have 2 lists that have no mathematical property linking them <br>\n",
    "This approach would not work.<br>\n",
    "Say for example we have a want to match a integer with a strings or random order<br>"
   ]
  },
  {
   "cell_type": "markdown",
   "id": "f6d3c5f8-cef9-4eb6-aafb-6b5087fbef41",
   "metadata": {},
   "source": [
    "## D1E3 Autopopulate in to list or dictionary"
   ]
  },
  {
   "cell_type": "markdown",
   "id": "45ac82e6-ed87-47ea-a87f-0c96a1b9f0ed",
   "metadata": {},
   "source": [
    "We can autopopulate the items in a list by **appending** them separately using a the **Math equation** or in this case <br>\n",
    "Simply using $$i += 1$$"
   ]
  },
  {
   "cell_type": "markdown",
   "id": "33f69d13-9bf1-473c-9617-640ee6263f85",
   "metadata": {},
   "source": [
    "## D2E1 > Double looping using for ( Using start stop and step) << Failed >>"
   ]
  },
  {
   "cell_type": "markdown",
   "id": "435d43c0-202a-44e5-adba-1e1bf5bdffb7",
   "metadata": {},
   "source": [
    "The main idea behind this is to <br>\n",
    "Without creating 2 separate lists we want to link the index of N with ASCII"
   ]
  },
  {
   "cell_type": "markdown",
   "id": "d68340d3-ce97-43a7-9147-9ea8bc4b09e4",
   "metadata": {},
   "source": [
    "| N | 1 | 2 | 3 | ... |\n",
    "| - | - | - | - | - |\n",
    "|ASCII | 97 | 98 | 99 | ... | "
   ]
  },
  {
   "cell_type": "code",
   "execution_count": 4,
   "id": "f478ce63-fdc7-4f04-b512-c267e840e911",
   "metadata": {},
   "outputs": [],
   "source": [
    "#for i in range ( 1, 28):\n",
    "    #for v in range (97, 123):\n",
    "      # print(v)"
   ]
  },
  {
   "cell_type": "markdown",
   "id": "07ab1aee-73a0-47b6-b244-6c16b32e3abf",
   "metadata": {},
   "source": [
    "The above code has a problem that it creates a lot of useless data and takes more than needed space."
   ]
  },
  {
   "cell_type": "markdown",
   "id": "c18ce0e0-660a-4e25-8b9c-fe4b125474eb",
   "metadata": {},
   "source": [
    "# Ideal solving 2"
   ]
  },
  {
   "cell_type": "markdown",
   "id": "439f9158-c477-421c-a73b-0761103de603",
   "metadata": {},
   "source": [
    "**I1 = Decrementing and incrementing the values of chr(ASCII)<br>**\n",
    "\n",
    "**D1 = Solve the problem using different data structures<br>\n",
    "D2 = Without using any complex data structures<br>**\n",
    "\n",
    "**E1 = Solving the problem mathematically using an equation<br> \n",
    "E2 = Autopopulate and add items to be printed out in a list<br>**\n",
    "\n",
    "**A = <br>\n",
    "L = <br>**"
   ]
  },
  {
   "cell_type": "markdown",
   "id": "eb465a4a-1541-44b3-a4cc-41176b6e0502",
   "metadata": {},
   "source": [
    "# Expermientation Phase"
   ]
  },
  {
   "cell_type": "markdown",
   "id": "d37f2351-9682-437b-824a-2af70309f2ff",
   "metadata": {},
   "source": [
    "### Values of only LHS"
   ]
  },
  {
   "cell_type": "code",
   "execution_count": null,
   "id": "441aabe0-fde2-4bf9-9042-41ccc3a15ad9",
   "metadata": {},
   "outputs": [],
   "source": [
    "\n",
    "\"\"\"The main file\"\"\"\n",
    "\n",
    "N = int(input())\n",
    "ASC = N + 96\n",
    "Row_val = (N - 1)  # The number of rows\n",
    "thickness = (N * 2) - 2  # The thickness of one side\n",
    "\n",
    "# for i in range(Row_val):\n",
    "#     print().rjust()\n",
    "\n",
    "\"\"\"If we want the character in the center\"\"\"\n",
    "\n",
    "for i in range(Row_val):\n",
    "    print((i * chr(ASC)).rjust(thickness, \"-\"))"
   ]
  },
  {
   "cell_type": "markdown",
   "id": "1768f2d0-1398-46e4-a081-b6ea0505c832",
   "metadata": {},
   "source": [
    "### Values of Upper half "
   ]
  },
  {
   "cell_type": "code",
   "execution_count": null,
   "id": "963d1924-1ea4-48cc-809b-01bf08eb9f8e",
   "metadata": {
    "editable": true,
    "slideshow": {
     "slide_type": ""
    },
    "tags": []
   },
   "outputs": [],
   "source": [
    "\"\"\"The main file\"\"\"\n",
    "\n",
    "N = int(input())\n",
    "ASC = N + 96\n",
    "Row_val = N - 1  # The number of rows\n",
    "thickness = (N * 2) - 2  # The thickness of one side\n",
    "# for i in range(Row_val):\n",
    "#     print().rjust()\n",
    "\n",
    "\"\"\"If we want the characters in the upper half\"\"\"\n",
    "for i in range(Row_val):\n",
    "    print(\n",
    "        (i * chr(ASC - i - 1)).rjust(thickness, \"-\")\n",
    "        + \" \"\n",
    "        + chr(ASC - i)\n",
    "        + \" \"\n",
    "        + (i * chr(ASC - i - 1)).ljust(thickness, \"-\")\n",
    "    )"
   ]
  },
  {
   "cell_type": "markdown",
   "id": "4b4d5d3b-9a22-4c9f-a1e5-377cd7547fa9",
   "metadata": {},
   "source": [
    "### Contemplate on what you did wrong here "
   ]
  },
  {
   "cell_type": "code",
   "execution_count": null,
   "id": "def2425d-5ccd-4cb6-badf-8cefb927c35a",
   "metadata": {},
   "outputs": [],
   "source": [
    "\"\"\"The main file\"\"\"\n",
    "\n",
    "N = int(input())\n",
    "ASC = N + 96\n",
    "Row_val = N - 1  # The number of rows\n",
    "thickness = (N * 2) - 2  # The thickness of one side\n",
    "lis = list()\n",
    "# for i in range(N):# Why did this now work\n",
    "for i in range(N - 1, 1, -1):  # Number of Groups.\n",
    "    # for i in range(0, N - 1, 1):\n",
    "    for n in range(0, N - 1, i):\n",
    "        print(\"n-value\", n)\n",
    "        print(\"i-value\", i)\n",
    "        print(\"ASCII value\", ASC - n)\n",
    "        ele = chr(ASC - n)  #\n",
    "        print(ele)\n",
    "        lis.append(ele)\n",
    "    print(lis)\n"
   ]
  },
  {
   "cell_type": "markdown",
   "id": "5df9c201-e7a9-4799-b18d-ebe9ee14f418",
   "metadata": {},
   "source": [
    "1. Deviated from keeping things simple.\n",
    "2. Made the first for loop so convoluted and designated it a purpose when it could have many.\n",
    "3. Always look if you can change the overarching objective at times. ( Manipulation of goals rather than manipulation of strategies ) which cost us valuable time."
   ]
  },
  {
   "cell_type": "markdown",
   "id": "75309dbe-3a35-4658-85c8-7817b318f40b",
   "metadata": {},
   "source": [
    "### Finally the corrected code which produces the required value of one half of Top pyramid"
   ]
  },
  {
   "cell_type": "code",
   "execution_count": null,
   "id": "bccd41b7-ae8a-41dc-af33-a94e066ed928",
   "metadata": {},
   "outputs": [],
   "source": [
    "\"\"\"The main file\"\"\"\n",
    "\n",
    "N = int(input())\n",
    "ASC = N + 96\n",
    "Row_val = N - 1  # The number of rows\n",
    "thickness = (N * 2) - 2  # The thickness of one side\n",
    "lis = list()\n",
    "# for i in range(N):# Why did this now work\n",
    "for i in range(0, N, 1):  # Number of Groups.\n",
    "    # for i in range(0, N - 1, 1):\n",
    "    for n in range(0, i, 1):\n",
    "        print(\"n-value\", n)\n",
    "        print(\"i-value\", i)\n",
    "        print(\"ASCII value\", ASC - n)\n",
    "        ele = chr(ASC - n)  #\n",
    "        print(ele)\n",
    "        lis.append(ele)\n",
    "    print(lis)"
   ]
  },
  {
   "cell_type": "code",
   "execution_count": null,
   "id": "7ad15a74-5e90-4a6c-aa73-429770ec4586",
   "metadata": {},
   "outputs": [],
   "source": []
  }
 ],
 "metadata": {
  "kernelspec": {
   "display_name": "Python 3 (ipykernel)",
   "language": "python",
   "name": "python3"
  },
  "language_info": {
   "codemirror_mode": {
    "name": "ipython",
    "version": 3
   },
   "file_extension": ".py",
   "mimetype": "text/x-python",
   "name": "python",
   "nbconvert_exporter": "python",
   "pygments_lexer": "ipython3",
   "version": "3.11.3"
  }
 },
 "nbformat": 4,
 "nbformat_minor": 5
}

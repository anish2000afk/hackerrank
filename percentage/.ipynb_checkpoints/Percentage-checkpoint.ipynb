{
 "cells": [
  {
   "cell_type": "markdown",
   "id": "0d004ebf-ce23-4b42-ac88-2e38788efb8b",
   "metadata": {},
   "source": [
    "### Understanding the Input of the question"
   ]
  },
  {
   "cell_type": "code",
   "execution_count": null,
   "id": "3d159fcf-5069-4a62-b3dc-c69f08ede101",
   "metadata": {
    "tags": []
   },
   "outputs": [],
   "source": [
    "n = int(input())\n",
    "student_marks = {}\n",
    "for _ in range(n):\n",
    "    name, *line = input().split()\n",
    "    scores = list(map(float, line))\n",
    "    student_marks[name] = scores\n",
    "query_name = input()\n",
    "print(student_marks)"
   ]
  },
  {
   "cell_type": "code",
   "execution_count": null,
   "id": "05a222de-366b-4d58-a0e1-b2f17875b71f",
   "metadata": {},
   "outputs": [],
   "source": [
    "name , *line = input().split()"
   ]
  },
  {
   "cell_type": "markdown",
   "id": "a1741ea8-c371-469b-bcd9-977181680a7d",
   "metadata": {},
   "source": [
    "The above line takes 2 variables (names) and (*lines) and splits them."
   ]
  },
  {
   "cell_type": "code",
   "execution_count": null,
   "id": "8e35cda0-5aa5-4474-9364-74720fc50a7a",
   "metadata": {},
   "outputs": [],
   "source": [
    "scores = list(map(float, lines))"
   ]
  },
  {
   "cell_type": "markdown",
   "id": "57b0ce1a-d8a0-4d5d-9e3c-1121c4d00267",
   "metadata": {},
   "source": [
    "The above line creates a score variable which maps a list of float items from line."
   ]
  },
  {
   "cell_type": "code",
   "execution_count": null,
   "id": "b7366dd7-dc53-412f-9c86-fe7c0ccc94ce",
   "metadata": {},
   "outputs": [],
   "source": [
    "student_marks[name] = scores"
   ]
  },
  {
   "cell_type": "markdown",
   "id": "fa5461b1-c8b4-4003-af4b-23f897d870be",
   "metadata": {},
   "source": [
    "The above line populates the student_marks dictionary with the name as the key  and their scores as values."
   ]
  },
  {
   "cell_type": "code",
   "execution_count": 2,
   "id": "23200c4e-e449-4bee-89cb-48fb72cf0f8e",
   "metadata": {
    "tags": []
   },
   "outputs": [
    {
     "name": "stdin",
     "output_type": "stream",
     "text": [
      " 2\n",
      " anish 2 2 2\n"
     ]
    },
    {
     "name": "stdout",
     "output_type": "stream",
     "text": [
      "{'anish': [2.0, 2.0, 2.0]}\n"
     ]
    },
    {
     "name": "stdin",
     "output_type": "stream",
     "text": [
      " foden 2 3 4\n"
     ]
    },
    {
     "name": "stdout",
     "output_type": "stream",
     "text": [
      "{'anish': [2.0, 2.0, 2.0], 'foden': [2.0, 3.0, 4.0]}\n"
     ]
    }
   ],
   "source": [
    "lst =  []\n",
    "n = int(input())\n",
    "student_marks = {}\n",
    "for _ in range(n):\n",
    "    name, *line = input().split()\n",
    "    scores = list(map(float, line))\n",
    "    student_marks[name] = scores\n",
    "    print (student_marks)"
   ]
  },
  {
   "cell_type": "markdown",
   "id": "2800abf9-5be5-4619-ba4f-5a331155ee64",
   "metadata": {},
   "source": [
    "The above code prints out the key as the name and the value as a list of floats using *args."
   ]
  },
  {
   "cell_type": "code",
   "execution_count": 1,
   "id": "c03c2c12-c908-484b-8f85-639ddf4ec73f",
   "metadata": {},
   "outputs": [
    {
     "name": "stdin",
     "output_type": "stream",
     "text": [
      " 2\n",
      " foden 2 2 2\n",
      " anish 2 3 4\n",
      " anish\n"
     ]
    },
    {
     "name": "stdout",
     "output_type": "stream",
     "text": [
      "2.0\n",
      "3.0\n",
      "4.0\n"
     ]
    }
   ],
   "source": [
    "lst =  []\n",
    "n = int(input())\n",
    "student_marks = {}\n",
    "for _ in range(n):\n",
    "    name, *line = input().split()\n",
    "    scores = list(map(float, line))\n",
    "    student_marks[name] = scores\n",
    "query_name = input()\n",
    "if query_name in student_marks:\n",
    "    for i in student_marks[query_name]: # take query name as a variable to check in the dictionary.\n",
    "        print(i)"
   ]
  },
  {
   "cell_type": "markdown",
   "id": "3f7aa096-4c53-4189-9c48-b0ec56c6f6c7",
   "metadata": {},
   "source": [
    "The above code will print out the marks of a particular student."
   ]
  },
  {
   "cell_type": "markdown",
   "id": "057221ad-dfd0-4f5c-b302-afde1a581da4",
   "metadata": {},
   "source": [
    "Now the math part of the question which is to find the average of list of items."
   ]
  },
  {
   "cell_type": "code",
   "execution_count": null,
   "id": "280bc4d3-d0f5-44cc-b521-dc86da0f966e",
   "metadata": {},
   "outputs": [],
   "source": [
    "lst =  []\n",
    "n = int(input())\n",
    "student_marks = {}\n",
    "total = 0\n",
    "count = 0\n",
    "for _ in range(n):\n",
    "    name, *line = input().split()\n",
    "    scores = list(map(float, line))\n",
    "    student_marks[name] = scores\n",
    "query_name = input()\n",
    "if query_name in student_marks:\n",
    "    for i in student_marks[query_name]:\n",
    "        total += float(i)\n",
    "        count = count + 1\n",
    "    print(float(total/count))\n"
   ]
  },
  {
   "cell_type": "markdown",
   "id": "78e3f4df-b44c-47df-8115-05bb05679a86",
   "metadata": {},
   "source": [
    "The above takes in additional values of count and total and gives the desired result"
   ]
  },
  {
   "cell_type": "markdown",
   "id": "2065f874-8fff-41aa-bc20-d681428625fe",
   "metadata": {},
   "source": [
    "But we want our answer for upto 2 decimal places."
   ]
  },
  {
   "cell_type": "code",
   "execution_count": null,
   "id": "faf7f76b-3c9c-4883-90e1-82bfb8212c0a",
   "metadata": {},
   "outputs": [],
   "source": [
    "    avg = \"%.2f\" % avg "
   ]
  },
  {
   "cell_type": "markdown",
   "id": "2c63fc24-0231-429a-afa7-017ec8d26d8a",
   "metadata": {},
   "source": [
    "If we add the above line we can manipulate the digits after decimal point"
   ]
  },
  {
   "cell_type": "markdown",
   "id": "3eb8e55e-f23d-4cef-a462-d2a922357754",
   "metadata": {},
   "source": [
    "## Final Answer"
   ]
  },
  {
   "cell_type": "code",
   "execution_count": null,
   "id": "1ac711e8-a569-4c19-97cb-ebfef2907e73",
   "metadata": {},
   "outputs": [],
   "source": [
    "lst =  []\n",
    "n = int(input())\n",
    "student_marks = {}\n",
    "total = 0\n",
    "count = 0\n",
    "for _ in range(n):\n",
    "    name, *line = input().split()\n",
    "    scores = list(map(float, line))\n",
    "    student_marks[name] = scores\n",
    "query_name = input()\n",
    "if query_name in student_marks:\n",
    "    for i in student_marks[query_name]:\n",
    "        total += float(i)\n",
    "        count = count + 1\n",
    "    avg = float((total/count))\n",
    "    avg = \"%.2f\" % avg \n",
    "    print(avg)"
   ]
  },
  {
   "cell_type": "code",
   "execution_count": null,
   "id": "f9521630-a8b4-4547-a520-a2db54bf533c",
   "metadata": {},
   "outputs": [],
   "source": []
  }
 ],
 "metadata": {
  "kernelspec": {
   "display_name": "Python 3 (ipykernel)",
   "language": "python",
   "name": "python3"
  },
  "language_info": {
   "codemirror_mode": {
    "name": "ipython",
    "version": 3
   },
   "file_extension": ".py",
   "mimetype": "text/x-python",
   "name": "python",
   "nbconvert_exporter": "python",
   "pygments_lexer": "ipython3",
   "version": "3.8.10"
  }
 },
 "nbformat": 4,
 "nbformat_minor": 5
}

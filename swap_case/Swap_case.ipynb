{
 "cells": [
  {
   "cell_type": "code",
   "execution_count": null,
   "id": "df31abbd-64ad-479b-b857-2c39c3935975",
   "metadata": {},
   "outputs": [],
   "source": [
    "def swap_case(s):\n",
    "    for i in s:\n",
    "        if (ord(i) >= 65 && <91):\n",
    "            i.lower()\n",
    "        elif (ord(i) > 97 && <123 ):\n",
    "            i.upper()\n",
    "    return :\n",
    "        print(s)"
   ]
  },
  {
   "cell_type": "markdown",
   "id": "523147a6-7528-4cf9-a813-947b44605ffa",
   "metadata": {},
   "source": [
    "The above has many errors\n",
    "1> In python we simply use and instead of *&&*\n",
    "2> instead of the if statement it is better to use range()"
   ]
  },
  {
   "cell_type": "code",
   "execution_count": null,
   "id": "f316517d-3da1-4930-ad06-3b59ff559c71",
   "metadata": {},
   "outputs": [],
   "source": []
  }
 ],
 "metadata": {
  "kernelspec": {
   "display_name": "Python 3 (ipykernel)",
   "language": "python",
   "name": "python3"
  },
  "language_info": {
   "codemirror_mode": {
    "name": "ipython",
    "version": 3
   },
   "file_extension": ".py",
   "mimetype": "text/x-python",
   "name": "python",
   "nbconvert_exporter": "python",
   "pygments_lexer": "ipython3",
   "version": "3.8.10"
  }
 },
 "nbformat": 4,
 "nbformat_minor": 5
}

{
 "cells": [
  {
   "cell_type": "markdown",
   "id": "18487b91-4ea3-4997-b8b9-1e849dcb1cc4",
   "metadata": {},
   "source": [
    "**The below code shows an empty lists of lists** "
   ]
  },
  {
   "cell_type": "code",
   "execution_count": 5,
   "id": "c285ab10-c65b-401a-89d2-8cdc8b6e236c",
   "metadata": {
    "tags": []
   },
   "outputs": [
    {
     "name": "stdout",
     "output_type": "stream",
     "text": [
      "[[], [], [], [], []]\n"
     ]
    }
   ],
   "source": [
    "matrix = []\n",
    "for _ in range(5):\n",
    "    matrix.append([])\n",
    "print(matrix)"
   ]
  },
  {
   "cell_type": "markdown",
   "id": "d63ecaa5-a68b-436f-89e7-466925d282be",
   "metadata": {},
   "source": [
    "**If we were to populate this list of lists** "
   ]
  },
  {
   "cell_type": "code",
   "execution_count": 6,
   "id": "c2f8af7c-4b7b-4a3e-9278-0390550d6864",
   "metadata": {
    "tags": []
   },
   "outputs": [
    {
     "name": "stdout",
     "output_type": "stream",
     "text": [
      "[[0, 1, 2, 3, 4], [0, 1, 2, 3, 4], [0, 1, 2, 3, 4], [0, 1, 2, 3, 4], [0, 1, 2, 3, 4]]\n"
     ]
    }
   ],
   "source": [
    "matrix = []\n",
    "for i in range(5):\n",
    "    matrix.append([])\n",
    "    for j in range(5):\n",
    "        matrix[i].append(j)\n",
    "print(matrix)"
   ]
  },
  {
   "cell_type": "markdown",
   "id": "a6adfb4a-1b06-4910-8d6d-9f26c27f6b8b",
   "metadata": {
    "tags": []
   },
   "source": [
    "**To see the whole process of population we move print inside the for loop**"
   ]
  },
  {
   "cell_type": "code",
   "execution_count": 7,
   "id": "edc1de20-9bce-49bf-8753-7d55488c17e0",
   "metadata": {
    "tags": []
   },
   "outputs": [
    {
     "name": "stdout",
     "output_type": "stream",
     "text": [
      "[[0, 1, 2, 3, 4]]\n",
      "[[0, 1, 2, 3, 4], [0, 1, 2, 3, 4]]\n",
      "[[0, 1, 2, 3, 4], [0, 1, 2, 3, 4], [0, 1, 2, 3, 4]]\n",
      "[[0, 1, 2, 3, 4], [0, 1, 2, 3, 4], [0, 1, 2, 3, 4], [0, 1, 2, 3, 4]]\n",
      "[[0, 1, 2, 3, 4], [0, 1, 2, 3, 4], [0, 1, 2, 3, 4], [0, 1, 2, 3, 4], [0, 1, 2, 3, 4]]\n"
     ]
    }
   ],
   "source": [
    "matrix = []\n",
    "for i in range(5):\n",
    "    matrix.append([])\n",
    "    for j in range(5):\n",
    "        matrix[i].append(j)\n",
    "    print(matrix)"
   ]
  },
  {
   "cell_type": "markdown",
   "id": "cf1f934a-6416-4c2f-92a1-ed88be1e49c0",
   "metadata": {
    "tags": []
   },
   "source": [
    "**In simple words the first for loop creates the lists of lists and the second for loop populates it**"
   ]
  },
  {
   "cell_type": "markdown",
   "id": "00e00265-1fcd-49d5-850b-b57f118beabd",
   "metadata": {},
   "source": [
    "Let's take a closer look at the second for loop"
   ]
  },
  {
   "cell_type": "code",
   "execution_count": 9,
   "id": "3ed9855f-8f3a-42a2-9423-788d189e0255",
   "metadata": {
    "tags": []
   },
   "outputs": [],
   "source": [
    "for j in range(5):\n",
    "        matrix[i].append(j)"
   ]
  },
  {
   "cell_type": "markdown",
   "id": "307268fc-2a02-4e68-853d-19a7f77daec1",
   "metadata": {
    "tags": []
   },
   "source": [
    "range (5) will be interpreted as (0,1,2,3,4)"
   ]
  },
  {
   "cell_type": "code",
   "execution_count": 10,
   "id": "8c0343fe-bc65-4790-9daa-de2feae3a519",
   "metadata": {
    "tags": []
   },
   "outputs": [],
   "source": [
    "matrix[i].append(j)"
   ]
  },
  {
   "cell_type": "markdown",
   "id": "91258a81-bc05-4d53-857d-20953bbea671",
   "metadata": {},
   "source": [
    "The outer for loop initially has created only 1 list which is populated with j as (0,1,2,3,4). Which looks likes the output below"
   ]
  },
  {
   "cell_type": "markdown",
   "id": "c77a07c5-9bde-404f-aa16-de39c6809818",
   "metadata": {
    "tags": []
   },
   "source": [
    "[[0, 1, 2, 3, 4]]"
   ]
  },
  {
   "cell_type": "markdown",
   "id": "2bebaf80-d9be-440c-bb78-69a8a48f12a8",
   "metadata": {},
   "source": [
    "Now we move to the outer for loop and create a new empty list of list []. Which is again populated by j(0,1,2,3,4).And the list now looks like below."
   ]
  },
  {
   "cell_type": "code",
   "execution_count": null,
   "id": "7009502b-b249-4e77-bed2-d883a2040d1b",
   "metadata": {},
   "outputs": [],
   "source": [
    "[[0, 1, 2, 3, 4], [0, 1, 2, 3, 4]]"
   ]
  },
  {
   "cell_type": "markdown",
   "id": "dce989d2-366a-49a6-a08a-a5c815de424b",
   "metadata": {
    "tags": []
   },
   "source": [
    "This process continues till we run our of the outer for loop and finally the outer for loop looks like this"
   ]
  },
  {
   "cell_type": "code",
   "execution_count": null,
   "id": "9b1f8570-13e6-4b5d-88b6-1fd7ff261c25",
   "metadata": {},
   "outputs": [],
   "source": [
    "[[0, 1, 2, 3, 4], [0, 1, 2, 3, 4], [0, 1, 2, 3, 4], [0, 1, 2, 3, 4], [0, 1, 2, 3, 4]]"
   ]
  }
 ],
 "metadata": {
  "kernelspec": {
   "display_name": "Python 3 (ipykernel)",
   "language": "python",
   "name": "python3"
  },
  "language_info": {
   "codemirror_mode": {
    "name": "ipython",
    "version": 3
   },
   "file_extension": ".py",
   "mimetype": "text/x-python",
   "name": "python",
   "nbconvert_exporter": "python",
   "pygments_lexer": "ipython3",
   "version": "3.8.10"
  }
 },
 "nbformat": 4,
 "nbformat_minor": 5
}

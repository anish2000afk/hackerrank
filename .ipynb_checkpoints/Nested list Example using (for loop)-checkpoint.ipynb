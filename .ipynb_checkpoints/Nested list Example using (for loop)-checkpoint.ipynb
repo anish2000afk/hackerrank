{
 "cells": [
  {
   "cell_type": "markdown",
   "id": "18487b91-4ea3-4997-b8b9-1e849dcb1cc4",
   "metadata": {},
   "source": [
    "**The below code shows an empty lists of lists** "
   ]
  },
  {
   "cell_type": "code",
   "execution_count": 5,
   "id": "c285ab10-c65b-401a-89d2-8cdc8b6e236c",
   "metadata": {
    "tags": []
   },
   "outputs": [
    {
     "name": "stdout",
     "output_type": "stream",
     "text": [
      "[[], [], [], [], []]\n"
     ]
    }
   ],
   "source": [
    "matrix = []\n",
    "for _ in range(5):\n",
    "    matrix.append([])\n",
    "print(matrix)"
   ]
  },
  {
   "cell_type": "markdown",
   "id": "d63ecaa5-a68b-436f-89e7-466925d282be",
   "metadata": {},
   "source": [
    "**If we were to populate this list of lists** "
   ]
  },
  {
   "cell_type": "code",
   "execution_count": 6,
   "id": "c2f8af7c-4b7b-4a3e-9278-0390550d6864",
   "metadata": {
    "tags": []
   },
   "outputs": [
    {
     "name": "stdout",
     "output_type": "stream",
     "text": [
      "[[0, 1, 2, 3, 4], [0, 1, 2, 3, 4], [0, 1, 2, 3, 4], [0, 1, 2, 3, 4], [0, 1, 2, 3, 4]]\n"
     ]
    }
   ],
   "source": [
    "matrix = []\n",
    "for i in range(5):\n",
    "    matrix.append([])\n",
    "    for j in range(5):\n",
    "        matrix[i].append(j)\n",
    "print(matrix)"
   ]
  },
  {
   "cell_type": "markdown",
   "id": "a6adfb4a-1b06-4910-8d6d-9f26c27f6b8b",
   "metadata": {
    "tags": []
   },
   "source": [
    "**To see the whole process of population we move print inside the for loop**"
   ]
  },
  {
   "cell_type": "code",
   "execution_count": 7,
   "id": "edc1de20-9bce-49bf-8753-7d55488c17e0",
   "metadata": {
    "tags": []
   },
   "outputs": [
    {
     "name": "stdout",
     "output_type": "stream",
     "text": [
      "[[0, 1, 2, 3, 4]]\n",
      "[[0, 1, 2, 3, 4], [0, 1, 2, 3, 4]]\n",
      "[[0, 1, 2, 3, 4], [0, 1, 2, 3, 4], [0, 1, 2, 3, 4]]\n",
      "[[0, 1, 2, 3, 4], [0, 1, 2, 3, 4], [0, 1, 2, 3, 4], [0, 1, 2, 3, 4]]\n",
      "[[0, 1, 2, 3, 4], [0, 1, 2, 3, 4], [0, 1, 2, 3, 4], [0, 1, 2, 3, 4], [0, 1, 2, 3, 4]]\n"
     ]
    }
   ],
   "source": [
    "matrix = []\n",
    "for i in range(5):\n",
    "    matrix.append([])\n",
    "    for j in range(5):\n",
    "        matrix[i].append(j)\n",
    "    print(matrix)"
   ]
  },
  {
   "cell_type": "markdown",
   "id": "cf1f934a-6416-4c2f-92a1-ed88be1e49c0",
   "metadata": {
    "tags": []
   },
   "source": [
    "**In simple words the first for loop creates the lists of lists and the second for loop populates it**"
   ]
  },
  {
   "cell_type": "markdown",
   "id": "00e00265-1fcd-49d5-850b-b57f118beabd",
   "metadata": {},
   "source": [
    "Let's take a closer look at the second for loop"
   ]
  },
  {
   "cell_type": "code",
   "execution_count": 9,
   "id": "3ed9855f-8f3a-42a2-9423-788d189e0255",
   "metadata": {
    "tags": []
   },
   "outputs": [],
   "source": [
    "for j in range(5):\n",
    "        matrix[i].append(j)"
   ]
  },
  {
   "cell_type": "markdown",
   "id": "307268fc-2a02-4e68-853d-19a7f77daec1",
   "metadata": {
    "tags": []
   },
   "source": [
    "range (5) will be interpreted as (0,1,2,3,4)"
   ]
  },
  {
   "cell_type": "code",
   "execution_count": 10,
   "id": "8c0343fe-bc65-4790-9daa-de2feae3a519",
   "metadata": {
    "tags": []
   },
   "outputs": [],
   "source": [
    "matrix[i].append(j)"
   ]
  },
  {
   "cell_type": "markdown",
   "id": "91258a81-bc05-4d53-857d-20953bbea671",
   "metadata": {},
   "source": [
    "The outer for loop initially has created only 1 list which is populated with j as (0,1,2,3,4). Which looks likes the output below"
   ]
  },
  {
   "cell_type": "markdown",
   "id": "c77a07c5-9bde-404f-aa16-de39c6809818",
   "metadata": {
    "tags": []
   },
   "source": [
    "[[0, 1, 2, 3, 4]]"
   ]
  },
  {
   "cell_type": "markdown",
   "id": "2bebaf80-d9be-440c-bb78-69a8a48f12a8",
   "metadata": {},
   "source": [
    "Now we move to the outer for loop and create a new empty list of list []. Which is again populated by j(0,1,2,3,4).And the list now looks like below."
   ]
  },
  {
   "cell_type": "code",
   "execution_count": null,
   "id": "7009502b-b249-4e77-bed2-d883a2040d1b",
   "metadata": {},
   "outputs": [],
   "source": [
    "[[0, 1, 2, 3, 4], [0, 1, 2, 3, 4]]"
   ]
  },
  {
   "cell_type": "markdown",
   "id": "dce989d2-366a-49a6-a08a-a5c815de424b",
   "metadata": {
    "tags": []
   },
   "source": [
    "This process continues till we run our of the outer for loop and finally the outer for loop looks like this"
   ]
  },
  {
   "cell_type": "code",
   "execution_count": null,
   "id": "9b1f8570-13e6-4b5d-88b6-1fd7ff261c25",
   "metadata": {},
   "outputs": [],
   "source": [
    "[[0, 1, 2, 3, 4], [0, 1, 2, 3, 4], [0, 1, 2, 3, 4], [0, 1, 2, 3, 4], [0, 1, 2, 3, 4]]"
   ]
  },
  {
   "cell_type": "markdown",
   "id": "7a7bbb57-c2e9-49ef-8501-a26410cb24d8",
   "metadata": {},
   "source": [
    "### Branch (Failed)"
   ]
  },
  {
   "cell_type": "code",
   "execution_count": 1,
   "id": "389592d2-44d7-46d2-8d1c-dd106ed775d5",
   "metadata": {
    "tags": []
   },
   "outputs": [
    {
     "name": "stdin",
     "output_type": "stream",
     "text": [
      " 2\n",
      " anish\n",
      " 20.0\n",
      " foden \n",
      " 30.0\n"
     ]
    },
    {
     "name": "stdout",
     "output_type": "stream",
     "text": [
      "[['anish', 20.0]]\n"
     ]
    }
   ],
   "source": [
    "'''If we do records[0]'''\n",
    "records = []\n",
    "u =[]\n",
    "score_list = []\n",
    "for _ in range(int(input())):\n",
    "    name = input()\n",
    "    score = float(input())\n",
    "    records.append([name, score])\n",
    "    score_list.append(score)\n",
    "    u = sorted(set(list(u)).union(set(score_list))) # removes duplicates and sorts the list of floats.\n",
    "second_last = list(u)[-2] # grabs the second last item\n",
    "names = [records[0] for j in records for i in j if i == second_last]\n",
    "print(names)"
   ]
  },
  {
   "cell_type": "markdown",
   "id": "5bca66ab-ee9e-466e-b4b3-6f2207188df6",
   "metadata": {},
   "source": [
    "It returns the first entry for records and does not go thro"
   ]
  },
  {
   "cell_type": "markdown",
   "id": "91d862d5-c9b9-40cb-88d2-06e96cf34dee",
   "metadata": {},
   "source": [
    "### Branch (Passed)"
   ]
  },
  {
   "cell_type": "code",
   "execution_count": 4,
   "id": "6789e75d-75b3-4e24-8c3b-b909f8daebd0",
   "metadata": {
    "tags": []
   },
   "outputs": [
    {
     "name": "stdout",
     "output_type": "stream",
     "text": [
      "anish\n"
     ]
    }
   ],
   "source": [
    "\"\"\"This sandbox's obj is to print the only anish from the nested list\"\"\"\n",
    "list = [['anish', 2.0],['foden', 30.0]]\n",
    "item = 2.0\n",
    "for i,m in list:\n",
    "    for j in i,m:\n",
    "        if j == item:\n",
    "            print(i)"
   ]
  },
  {
   "cell_type": "markdown",
   "id": "b204aa37-2a8f-468f-b3d9-0533ee857bab",
   "metadata": {},
   "source": [
    "This code works to satisfy the if statement j == item: and only prints out the first element of the nested list."
   ]
  },
  {
   "cell_type": "markdown",
   "id": "e74c1bd0-15e4-47e2-bb9e-e6e0ed11aa62",
   "metadata": {
    "tags": []
   },
   "source": [
    "**'''Now to make this work in a list comprehension'''**"
   ]
  },
  {
   "cell_type": "code",
   "execution_count": 3,
   "id": "9174bc13-3143-42ca-87ea-74fd219f0fb7",
   "metadata": {},
   "outputs": [
    {
     "ename": "SyntaxError",
     "evalue": "invalid syntax (762826712.py, line 1)",
     "output_type": "error",
     "traceback": [
      "\u001b[0;36m  Cell \u001b[0;32mIn[3], line 1\u001b[0;36m\u001b[0m\n\u001b[0;31m    final_items = [ i,m for i,m in list for j in i,m if j == items]\u001b[0m\n\u001b[0m                        ^\u001b[0m\n\u001b[0;31mSyntaxError\u001b[0m\u001b[0;31m:\u001b[0m invalid syntax\n"
     ]
    }
   ],
   "source": [
    "final_items = [ i,m for i,m in list for j in i,m if j == items]"
   ]
  },
  {
   "cell_type": "markdown",
   "id": "c52ee7f4-5187-4ff1-9ad9-1b808f5f5d48",
   "metadata": {},
   "source": [
    "Continue working with if statements"
   ]
  },
  {
   "cell_type": "code",
   "execution_count": 29,
   "id": "b6b44421-4bfc-4e06-a5a1-6070fa331664",
   "metadata": {
    "tags": []
   },
   "outputs": [
    {
     "name": "stdout",
     "output_type": "stream",
     "text": [
      "anish\n",
      "kyle\n"
     ]
    }
   ],
   "source": [
    "list = [['foden', 30.0],['kyle', 2.0],['anish', 2.0]]\n",
    "final_items = []\n",
    "item = 2.0\n",
    "for i,m in list:\n",
    "    for j in i,m:\n",
    "        if j == item:\n",
    "            final_items.append(i) # Make another list to append the required names\n",
    "final_items.sort()\n",
    "for i in final_items:\n",
    "    print(i)"
   ]
  },
  {
   "cell_type": "markdown",
   "id": "b433aef7-9447-4061-91ad-98c990547931",
   "metadata": {
    "tags": []
   },
   "source": [
    "### Problem with the main code "
   ]
  },
  {
   "cell_type": "code",
   "execution_count": null,
   "id": "ccbfefd0-95da-45d6-b18a-3e6ec8ed4f5e",
   "metadata": {
    "tags": []
   },
   "outputs": [],
   "source": [
    "ds = []\n",
    "u =[]\n",
    "score_list = []\n",
    "final_items = []\n",
    "for _ in range(int(input())):\n",
    "    name = input()\n",
    "    score = float(input())\n",
    "    records.append([name, score])\n",
    "    score_list.append(score)\n",
    "    u = sorted(set(list(u)).union(set(score_list))) # removes duplicates and sorts the list of floats.\n",
    "second_last = list(u)[-2] # grabs the second last item\n",
    "for i,m in records:\n",
    "    for j in i,m:\n",
    "        if j == second_last:\n",
    "            final_items.append(i)\n",
    "final_items.sort()\n",
    "for i in final_items:\n",
    "    print (i)"
   ]
  },
  {
   "cell_type": "markdown",
   "id": "9be6db88-0f87-4253-86e1-8cbb7e57bfeb",
   "metadata": {},
   "source": [
    "The above code prints out the second highest not the second lowest"
   ]
  },
  {
   "cell_type": "code",
   "execution_count": null,
   "id": "8e87adf2-3f12-4c6b-aa52-548a57c3cd73",
   "metadata": {},
   "outputs": [],
   "source": [
    "'''The original program for the nested list problem in hackerrank'''\n",
    "records = []\n",
    "u =[]\n",
    "score_list = []\n",
    "final_items = []\n",
    "for _ in range(int(input())):\n",
    "    name = input()\n",
    "    score = float(input())\n",
    "    records.append([name, score])\n",
    "    score_list.append(score)\n",
    "    u = sorted(set(list(u)).union(set(score_list))) # removes duplicates and sorts the list of floats.\n",
    "second_last = list(u)[1] # grabs the  second item\n",
    "for i,m in records:\n",
    "    for j in i,m:\n",
    "        if j == second_last:\n",
    "            final_items.append(i)\n",
    "final_items.sort()\n",
    "for i in final_items:\n",
    "    print (i)"
   ]
  },
  {
   "cell_type": "markdown",
   "id": "74442f0b-1af0-475d-8932-1fe30014d9bc",
   "metadata": {},
   "source": [
    "The above code works but needs to be shortened significantly."
   ]
  }
 ],
 "metadata": {
  "kernelspec": {
   "display_name": "Python 3 (ipykernel)",
   "language": "python",
   "name": "python3"
  },
  "language_info": {
   "codemirror_mode": {
    "name": "ipython",
    "version": 3
   },
   "file_extension": ".py",
   "mimetype": "text/x-python",
   "name": "python",
   "nbconvert_exporter": "python",
   "pygments_lexer": "ipython3",
   "version": "3.8.10"
  }
 },
 "nbformat": 4,
 "nbformat_minor": 5
}

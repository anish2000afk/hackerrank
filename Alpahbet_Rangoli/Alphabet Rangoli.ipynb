{
 "cells": [
  {
   "cell_type": "markdown",
   "id": "62191670-b726-44e2-9df7-b1532b34d381",
   "metadata": {},
   "source": [
    "### Problems"
   ]
  },
  {
   "cell_type": "markdown",
   "id": "dc37b575-5773-4340-8e94-fbc50dbdd743",
   "metadata": {},
   "source": [
    "1. Modulating Natural numbers to their ASCII constructs\n",
    "2. Every fold requires a gap of - in the sequence."
   ]
  },
  {
   "cell_type": "markdown",
   "id": "978c65ce-83a2-43e5-859b-a9aa241136ba",
   "metadata": {},
   "source": [
    "### Solutions"
   ]
  },
  {
   "cell_type": "markdown",
   "id": "39351b1d-73fd-4e6d-8488-b76750df5e54",
   "metadata": {},
   "source": [
    "### 1. Modulating Natural numbers to their ASCII constructs"
   ]
  },
  {
   "cell_type": "markdown",
   "id": "732e9ea8-0784-41bf-b2cf-6b2ddf3e0657",
   "metadata": {},
   "source": [
    " We could use ASII value of 97 as the base "
   ]
  },
  {
   "cell_type": "markdown",
   "id": "bbefb700-9134-43eb-94dc-739b0f22d881",
   "metadata": {},
   "source": [
    " **Hypothesis**: <br>\n",
    " If we take c which has a numberical (Whole numbers) value of 3 or simply N = 3<br>\n",
    " If we take the value of 97 + 3  = 100 ; which is ASCII is \"d\"<br>\n",
    " Now if we reduce the value of 100 - 1 or in the earlier step we could simply reduce the value of N = N -1 , we obtain \"c\"<br>\n",
    " This way we can circulate back by keeping the final ASCII value as 97 in the stop argument of the for loop."
   ]
  },
  {
   "cell_type": "markdown",
   "id": "71481464-9be9-42c3-a717-45d55f68ce61",
   "metadata": {},
   "source": [
    "### Experiment 1"
   ]
  },
  {
   "cell_type": "markdown",
   "id": "f59bb203-9218-4bcb-a85d-c685d7ca9818",
   "metadata": {},
   "source": [
    "Let's look at the simpler form the program could take <br>\n",
    "\n",
    "<p style = \"text-align: center;\">--b--<br>\n",
    "b-a-b<br>\n",
    "--b--<br></p>\n",
    "\n",
    "This represents a the value that could be represented if the value of N = 2."
   ]
  },
  {
   "cell_type": "markdown",
   "id": "494f50ad-d269-40e9-9515-8cfb48766463",
   "metadata": {},
   "source": [
    "An even more simpler version would look like this <br>\n",
    "<p style = \"text-align: center;\">--b--<br>\n",
    "-bab-<br>\n",
    "--b--<br></p> <br>\n",
    "\n",
    "The above output does not take into accout the alternating space of '-'"
   ]
  },
  {
   "cell_type": "markdown",
   "id": "c3fb788d-6ad3-4558-af1d-4cf47aa10272",
   "metadata": {},
   "source": [
    "If we divide the problem into 3 halves <br>\n",
    "\n",
    "<p style = \"text-align: center;\"> The upper pyramid --b--<br>\n",
    "The middle pyramid -bab-<br>\n",
    "The lower pyramid  --b--<br> </p>\n"
   ]
  },
  {
   "cell_type": "markdown",
   "id": "73b77004-ff2b-48cc-936e-44ff0b704425",
   "metadata": {},
   "source": [
    "### The upper pyramid"
   ]
  },
  {
   "cell_type": "code",
   "execution_count": null,
   "id": "615015ba-1269-40a8-9874-541556879794",
   "metadata": {},
   "outputs": [],
   "source": []
  },
  {
   "cell_type": "markdown",
   "id": "c8bf56d2-320d-4889-bc4f-a21997956564",
   "metadata": {},
   "source": [
    "### Relation of N with number of rows"
   ]
  },
  {
   "cell_type": "markdown",
   "id": "54918533-55e5-4322-ae74-5f455f6ae738",
   "metadata": {},
   "source": [
    "If we take value of N  = { 2, 3, 4, 5 ...} <br>\n",
    "Their Row value would be = { 3, 5, 7, 9...} <br>\n",
    "\n",
    "Basically the row values are an AP with the cd = 2<br>\n",
    "The row values can be computed from N as <br>\n",
    "                                                    <p style = \"text-align: center;\"> ***Row_val = N + (N-1)*** </p>"
   ]
  },
  {
   "cell_type": "markdown",
   "id": "a7056c5a-e188-4172-9c93-2da3fb525063",
   "metadata": {},
   "source": [
    "### Relation of N with the thickness on each side"
   ]
  },
  {
   "cell_type": "markdown",
   "id": "9cbb3177-e50c-4490-8c83-83491a1a6ee8",
   "metadata": {},
   "source": [
    "If we divide the upper pyramid of the output into 3 halves the LHS, Center , RHS<br>\n",
    "The thickeness of RHS = LHS <br>\n",
    "| N| Thickenss |\n",
    "| -| - |\n",
    "| 2 | 2 |\n",
    "| 3 | 4 |\n",
    "| 4 | 6 |\n",
    "\n",
    "Basically there is an increment of 2 with each case of N."
   ]
  },
  {
   "cell_type": "code",
   "execution_count": null,
   "id": "fab71657-ed76-4696-b64c-df9664b1b0e9",
   "metadata": {},
   "outputs": [],
   "source": []
  }
 ],
 "metadata": {
  "kernelspec": {
   "display_name": "Python 3 (ipykernel)",
   "language": "python",
   "name": "python3"
  },
  "language_info": {
   "codemirror_mode": {
    "name": "ipython",
    "version": 3
   },
   "file_extension": ".py",
   "mimetype": "text/x-python",
   "name": "python",
   "nbconvert_exporter": "python",
   "pygments_lexer": "ipython3",
   "version": "3.11.3"
  }
 },
 "nbformat": 4,
 "nbformat_minor": 5
}

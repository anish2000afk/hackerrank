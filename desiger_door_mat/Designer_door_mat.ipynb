{
 "cells": [
  {
   "cell_type": "markdown",
   "id": "d277f097-0fba-4224-8f3b-211f9e5e0987",
   "metadata": {},
   "source": [
    "For finding the bottom half of the door mat design."
   ]
  },
  {
   "cell_type": "markdown",
   "id": "aa7fa884-d1c5-43cd-94d7-fb9211bcca4a",
   "metadata": {},
   "source": [
    "The basic format of the ljust and rjust is : \"string\".center(width,filler)"
   ]
  },
  {
   "cell_type": "markdown",
   "id": "422d3515-3bc7-4800-9a3c-f3046501fa2c",
   "metadata": {
    "tags": []
   },
   "source": [
    "### Branch 1"
   ]
  },
  {
   "cell_type": "code",
   "execution_count": 3,
   "id": "d0be8f41-b9be-4887-9128-9a17b9ba00f0",
   "metadata": {
    "tags": []
   },
   "outputs": [
    {
     "name": "stdin",
     "output_type": "stream",
     "text": [
      " 7 21\n"
     ]
    },
    {
     "name": "stdout",
     "output_type": "stream",
     "text": [
      "---------.|.---------\n",
      "------.|..|..|.------\n",
      "---.|..|..|..|..|.---\n",
      "-------WELCOME-------\n",
      "---.|..|..|..|..|.---\n",
      "------.|..|..|.------\n",
      "------.|..|..|.------\n"
     ]
    }
   ],
   "source": [
    "length, thickness  = input().split()\n",
    "length = int(length)\n",
    "thickness = int(thickness)\n",
    "thick2 = int(thickness//2)\n",
    "c = '.|.'\n",
    "for i in range(length//2):\n",
    "    print((c*i).rjust((thickness//2)-1, '-')+c+(c*i).ljust((thickness//2)-1,'-'))\n",
    "print(('WELCOME').center(thickness,'-'))\n",
    "for i in range(length//2):\n",
    "    print((c*(((thick2//2)-i-1)//2)).rjust(thickness//2-1,'-')+c+(c*(((thick2//2)-i-1)//2)).ljust(thickness//2-1,'-'))\n"
   ]
  },
  {
   "cell_type": "markdown",
   "id": "21633e7c-206f-4380-8418-1edd906c1331",
   "metadata": {},
   "source": [
    "Question : Why does floor work and normal division doesn't. Maybe if we had taken float instead of int it would work.?"
   ]
  },
  {
   "cell_type": "markdown",
   "id": "adbc2b05-89ff-407a-b74e-8b6ca81eaea6",
   "metadata": {},
   "source": [
    "The floor would return a series of 2, 1, 1 because of the floor function in a 7 * 21 set"
   ]
  },
  {
   "cell_type": "markdown",
   "id": "5be558f3-5721-4ae9-b904-5fdc2937946a",
   "metadata": {},
   "source": [
    "The floor would return a series of 3,3,2,2,1 because of the floor function in a 11 * 31 set"
   ]
  },
  {
   "cell_type": "markdown",
   "id": "a4fc0eb3-7907-4b08-b219-f9ed02bc7713",
   "metadata": {},
   "source": [
    "We want a AP of ... 3,2,1"
   ]
  },
  {
   "cell_type": "markdown",
   "id": "b9482350-2ee3-40e7-8c11-018e4f4a4996",
   "metadata": {},
   "source": [
    "The ideal answer should be a sequence for eg> 7 * 21 should have a sequence of\n",
    "| 6 | c | 6|\n",
    "|---|---|---|\n",
    "|3 | c | 3|\n",
    "|0 | c | 0|\n",
    "\n",
    "Here the integers represent the spaces used by .|."
   ]
  },
  {
   "cell_type": "markdown",
   "id": "83b979ac-0a87-4562-bb74-e526f3d5f0c5",
   "metadata": {
    "tags": []
   },
   "source": [
    "Thought experiment : What if the input is bigger than the width."
   ]
  },
  {
   "cell_type": "code",
   "execution_count": 5,
   "id": "3ccf10c8-7504-424c-8c6a-294aaeb4ae8b",
   "metadata": {
    "tags": []
   },
   "outputs": [
    {
     "name": "stdout",
     "output_type": "stream",
     "text": [
      "WELCOMEWELCOE\n"
     ]
    }
   ],
   "source": [
    "print(\"WELCOMEWELCOE\".center(3,'-'))"
   ]
  },
  {
   "cell_type": "markdown",
   "id": "04a3fbb0-1d29-49c1-a730-f49d0f3c477f",
   "metadata": {},
   "source": [
    "The above output shows that string if bigger than the width takes precedence."
   ]
  },
  {
   "cell_type": "markdown",
   "id": "138829e9-80da-4b67-8e64-ef495fdce9da",
   "metadata": {},
   "source": [
    "Improved code for a AP looks like this , but it still does not work on 11 * 33 as it returns an AP of 5c, 4c, 3c, 3c, 2c."
   ]
  },
  {
   "cell_type": "code",
   "execution_count": 8,
   "id": "f8c7066d-51d0-426e-95ba-4b660afae6c5",
   "metadata": {
    "tags": []
   },
   "outputs": [],
   "source": [
    "#     print((c*((((thick2)-i-1)-i)//3)).rjust(thickness//2-1,'-')+c+(c*((((thick2)-i-1)-i)//3)).ljust(thickness//2-1,'-'))"
   ]
  },
  {
   "cell_type": "markdown",
   "id": "5f9aedd4-ba3b-4c0f-920c-8fc9b73e5692",
   "metadata": {},
   "source": [
    "### Solved by pure expermentation"
   ]
  },
  {
   "cell_type": "code",
   "execution_count": null,
   "id": "61efeaa7-e850-4735-aaa2-56cdb3b97b6d",
   "metadata": {
    "tags": []
   },
   "outputs": [],
   "source": [
    "length, thickness  = input().split()\n",
    "length = int(length)\n",
    "thickness = int(thickness)\n",
    "thick2 = int(thickness//3)\n",
    "c = '.|.'\n",
    "for i in range(length//2):\n",
    "    print((c*i).rjust((thickness//2)-1, '-')+c+(c*i).ljust((thickness//2)-1,'-'))\n",
    "print(('WELCOME').center(thickness,'-'))\n",
    "for i in range(length//2):\n",
    "    print((c*((thick2//2)-1-i)).rjust(thickness//2-1,'-')+c+(c*((thick2//2)-1-i)).ljust(thickness//2-1,'-'))"
   ]
  },
  {
   "cell_type": "markdown",
   "id": "fb4cbfef-efeb-4d02-b996-12d3c9995831",
   "metadata": {},
   "source": [
    "Now the real Task is to look back and learn how it works"
   ]
  },
  {
   "cell_type": "code",
   "execution_count": null,
   "id": "1c31a8c8-eb13-40e8-b33c-8f0c733392aa",
   "metadata": {},
   "outputs": [],
   "source": []
  }
 ],
 "metadata": {
  "kernelspec": {
   "display_name": "Python 3 (ipykernel)",
   "language": "python",
   "name": "python3"
  },
  "language_info": {
   "codemirror_mode": {
    "name": "ipython",
    "version": 3
   },
   "file_extension": ".py",
   "mimetype": "text/x-python",
   "name": "python",
   "nbconvert_exporter": "python",
   "pygments_lexer": "ipython3",
   "version": "3.8.10"
  }
 },
 "nbformat": 4,
 "nbformat_minor": 5
}

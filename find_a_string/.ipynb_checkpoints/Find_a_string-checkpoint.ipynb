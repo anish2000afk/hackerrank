{
 "cells": [
  {
   "cell_type": "markdown",
   "id": "df3d8c4c-f160-4cf9-a47a-aab29eedc230",
   "metadata": {},
   "source": [
    "### Simply using in operator with a for loop"
   ]
  },
  {
   "cell_type": "code",
   "execution_count": 1,
   "id": "6154b0e1-b1ba-4dc8-87b5-2f40a017a4f7",
   "metadata": {},
   "outputs": [
    {
     "name": "stdout",
     "output_type": "stream",
     "text": [
      "7\n"
     ]
    }
   ],
   "source": [
    "def count_substring(string, sub_string):\n",
    "    count = 0\n",
    "    for i in range(0, len(string)):\n",
    "        if sub_string in string:\n",
    "            count = count + 1\n",
    "    print(count)\n",
    "\n",
    "\n",
    "count_substring(\"ABCDCDC\", \"CDC\")\n"
   ]
  },
  {
   "cell_type": "markdown",
   "id": "930f26a4-df89-4f7e-811f-58777d2e820a",
   "metadata": {},
   "source": [
    "The problem with the above code is that it runs a for loop upto the length of the string.<br>\n",
    "However it only finds the substring in it once."
   ]
  },
  {
   "cell_type": "markdown",
   "id": "1e2d1614-8ffa-49eb-b0f2-0e649aafc8fe",
   "metadata": {},
   "source": [
    "### Without using the for loop"
   ]
  },
  {
   "cell_type": "code",
   "execution_count": 3,
   "id": "2a55a733-8a7f-4966-b2f6-71aac091d0e7",
   "metadata": {},
   "outputs": [
    {
     "name": "stdout",
     "output_type": "stream",
     "text": [
      "1\n"
     ]
    }
   ],
   "source": [
    "def count_substring(string, sub_string):\n",
    "    count = 0\n",
    "    if sub_string in string:\n",
    "        count = count + 1\n",
    "    print(count)\n",
    "\n",
    "\n",
    "count_substring(\"ABCDCDC\", \"CDC\")"
   ]
  },
  {
   "cell_type": "code",
   "execution_count": null,
   "id": "ebb85032-835f-4eda-9b6a-595bc6ff74da",
   "metadata": {},
   "outputs": [],
   "source": []
  }
 ],
 "metadata": {
  "kernelspec": {
   "display_name": "Python 3 (ipykernel)",
   "language": "python",
   "name": "python3"
  },
  "language_info": {
   "codemirror_mode": {
    "name": "ipython",
    "version": 3
   },
   "file_extension": ".py",
   "mimetype": "text/x-python",
   "name": "python",
   "nbconvert_exporter": "python",
   "pygments_lexer": "ipython3",
   "version": "3.11.5"
  }
 },
 "nbformat": 4,
 "nbformat_minor": 5
}

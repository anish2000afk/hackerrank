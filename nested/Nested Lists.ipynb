{
 "cells": [
  {
   "cell_type": "markdown",
   "id": "de8be7a8-01bd-410d-ae76-48fabce1e42a",
   "metadata": {},
   "source": [
    "The question is provided in this link https://www.hackerrank.com/challenges/nested-list/problem?isFullScreen=true"
   ]
  },
  {
   "cell_type": "markdown",
   "id": "e72432ee-8f6a-48e9-8847-d12fc7e67f00",
   "metadata": {},
   "source": [
    "For making a list of records "
   ]
  },
  {
   "cell_type": "code",
   "execution_count": 2,
   "id": "bc5573f3-ffc2-4ff0-a426-d577ded8e891",
   "metadata": {
    "tags": []
   },
   "outputs": [
    {
     "name": "stdin",
     "output_type": "stream",
     "text": [
      " 2\n",
      " anish\n",
      " 3.0\n",
      " foden\n",
      " 1.0\n"
     ]
    },
    {
     "name": "stdout",
     "output_type": "stream",
     "text": [
      "[['anish', 3.0], ['foden', 1.0]]\n"
     ]
    }
   ],
   "source": [
    "records = []\n",
    "for _ in range(int(input())):\n",
    "    name = input()\n",
    "    score = float(input())\n",
    "    records.append([name, score])\n",
    "print(sorted((records)))"
   ]
  },
  {
   "cell_type": "markdown",
   "id": "b8191257-8850-4d4e-8146-7fe288b03f1c",
   "metadata": {},
   "source": [
    "To find if we can sort a list of floats "
   ]
  },
  {
   "cell_type": "code",
   "execution_count": 4,
   "id": "10d72d86-6ead-4b20-b23f-50c5f3e8bc3f",
   "metadata": {
    "tags": []
   },
   "outputs": [
    {
     "name": "stdout",
     "output_type": "stream",
     "text": [
      "[1.0, 2.0, 2.5, 3.0, 201.0]\n"
     ]
    }
   ],
   "source": [
    "floats = [1.0, 2.0, 3.0, 2.5, 201.0]\n",
    "print(sorted(floats))"
   ]
  },
  {
   "cell_type": "code",
   "execution_count": null,
   "id": "287b3ab7-0618-4400-9675-71c35bf95b4b",
   "metadata": {},
   "outputs": [],
   "source": []
  }
 ],
 "metadata": {
  "kernelspec": {
   "display_name": "Python 3 (ipykernel)",
   "language": "python",
   "name": "python3"
  },
  "language_info": {
   "codemirror_mode": {
    "name": "ipython",
    "version": 3
   },
   "file_extension": ".py",
   "mimetype": "text/x-python",
   "name": "python",
   "nbconvert_exporter": "python",
   "pygments_lexer": "ipython3",
   "version": "3.8.10"
  }
 },
 "nbformat": 4,
 "nbformat_minor": 5
}

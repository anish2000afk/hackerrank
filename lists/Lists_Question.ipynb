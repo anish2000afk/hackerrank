{
 "cells": [
  {
   "cell_type": "markdown",
   "id": "6b9db07b-7ae9-4f93-aa39-25eba2a98ba7",
   "metadata": {},
   "source": [
    "For the first part of the question , below should suffice."
   ]
  },
  {
   "cell_type": "code",
   "execution_count": 1,
   "id": "e7748ccb-19a6-41e3-b950-7f7a28a9a1c3",
   "metadata": {
    "tags": []
   },
   "outputs": [],
   "source": [
    "N = []\n",
    "n = int(input())\n",
    "for i in range(n):\n",
    "    "
   ]
  },
  {
   "cell_type": "markdown",
   "id": "10e8578d-5af0-424d-9c15-7a1074fb80e5",
   "metadata": {},
   "source": [
    "Now for separating the string and integer values."
   ]
  },
  {
   "cell_type": "code",
   "execution_count": null,
   "id": "5f521219-8110-42f1-976b-7a141f38f079",
   "metadata": {},
   "outputs": [],
   "source": [
    "'''Goal: To separate a string from an integer'''\n",
    "n = int(input())\n",
    "N = []\n",
    "for i in range(n):\n",
    "    command, integ = input().split()\n",
    "    if command == 'append' :\n",
    "        N.append(int(integ))\n",
    "    print(N)"
   ]
  },
  {
   "cell_type": "markdown",
   "id": "18be6f1f-8da9-4f0d-adbf-7eaa9eb432b4",
   "metadata": {},
   "source": [
    "If we take int at the just before append the code should work fine without treating integ as a string rather as an int"
   ]
  },
  {
   "cell_type": "code",
   "execution_count": null,
   "id": "fd4d7d1b-8568-4c74-89bb-bfd05e385a46",
   "metadata": {},
   "outputs": [],
   "source": [
    "'''Goal: To separate a string from an integer'''\n",
    "n = int(input())\n",
    "N = []\n",
    "for i in range(n):\n",
    "    cd, integ = input().split()\n",
    "    if cd == 'append' :\n",
    "        N.append(int(integ))\n",
    "    if cd == 'print' :\n",
    "        print(N)\n",
    "    if cd == 'remove ':\n",
    "        N.remove(int(integ))\n",
    "    if cd == 'sort':\n",
    "        N.sort()\n",
    "    if cd == 'pop':\n",
    "        N.pop()\n",
    "    if cd == 'reverse':\n",
    "        N.reverse()"
   ]
  },
  {
   "cell_type": "markdown",
   "id": "3da58f57-36d1-472d-aff5-a1eef4bc7584",
   "metadata": {},
   "source": [
    "The above code works for items that requires 2 arguments \n",
    "But it will not work for commands like print as it requires only one argument."
   ]
  },
  {
   "cell_type": "code",
   "execution_count": null,
   "id": "8a1fe7b1-5c83-488e-ae8b-1ab876af4810",
   "metadata": {},
   "outputs": [],
   "source": [
    "'''Goal : to test input() .split()'''\n",
    "\n",
    "# name , *line = input().split()\n",
    "# print(name)\n",
    "'''Conclusion : it also works in case of single argument.'''\n",
    "\n",
    "'''Goal : to test input() and split() '''\n",
    "N = []\n",
    "name , *line = input().split()\n",
    "if name ==  'insert' :\n",
    "    scores = list(map(int, line)) # mapping the args in a list of integers\n",
    "    N.insert(scores[0], scores[1]) # since we have 2 integer arguments we can map as places 0 and 1.\n",
    "    print(N)"
   ]
  },
  {
   "cell_type": "markdown",
   "id": "88607ae7-c23b-40a5-b23f-41cfd93ae7b2",
   "metadata": {},
   "source": [
    "The above code is possible solution for dealing with insert statement."
   ]
  },
  {
   "cell_type": "code",
   "execution_count": null,
   "id": "6438281b-5779-430d-b542-def132251ede",
   "metadata": {},
   "outputs": [],
   "source": [
    "'''Goal: To separate a string from an integer'''\n",
    "n = int(input())\n",
    "N = []\n",
    "for i in range(n):\n",
    "    cd, *integ = input().split()\n",
    "    scores = list(map(int, integ))\n",
    "    if cd == 'insert':\n",
    "        N.insert(scores[0], scores[1])\n",
    "    if cd == 'append' :\n",
    "        N.append(int(scores[0]))\n",
    "    if cd == 'print' :\n",
    "        print(N)\n",
    "    if cd == 'remove':\n",
    "        N.remove(int(scores[0]))\n",
    "    if cd == 'sort':\n",
    "        N.sort()\n",
    "    if cd == 'pop':\n",
    "        N.pop()\n",
    "    if cd == 'reverse':\n",
    "        N.reverse()\n",
    "print(N)"
   ]
  },
  {
   "cell_type": "markdown",
   "id": "baff4bf8-6a59-4bf9-ba0e-5233ec19fbee",
   "metadata": {},
   "source": [
    "The above code solves the problem"
   ]
  },
  {
   "cell_type": "code",
   "execution_count": null,
   "id": "43d583c9-60a7-4bed-bc91-c4ffc25b3a7b",
   "metadata": {},
   "outputs": [],
   "source": []
  }
 ],
 "metadata": {
  "kernelspec": {
   "display_name": "Python 3 (ipykernel)",
   "language": "python",
   "name": "python3"
  },
  "language_info": {
   "codemirror_mode": {
    "name": "ipython",
    "version": 3
   },
   "file_extension": ".py",
   "mimetype": "text/x-python",
   "name": "python",
   "nbconvert_exporter": "python",
   "pygments_lexer": "ipython3",
   "version": "3.8.10"
  }
 },
 "nbformat": 4,
 "nbformat_minor": 5
}

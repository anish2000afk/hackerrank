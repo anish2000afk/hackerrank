{
 "cells": [
  {
   "cell_type": "markdown",
   "id": "44f13a7c-3f64-4cc7-aa4e-dbd21217a1d3",
   "metadata": {},
   "source": [
    "Check out the ways for converting decimal to binary https://www.wikihow.com/Convert-from-Decimal-to-Binary"
   ]
  },
  {
   "cell_type": "markdown",
   "id": "31f7b90c-8d9d-4880-a73d-54c14a32ecf2",
   "metadata": {},
   "source": [
    "**Short division** : Divide by 2 ; grab the remainders and reverse the list.\n",
    "**Descending powers** of 2 : Reduce by the greatest powers of 2. "
   ]
  },
  {
   "cell_type": "markdown",
   "id": "817a2aba-279e-43db-9d37-e45177d71db9",
   "metadata": {},
   "source": [
    "Continuing with short division method."
   ]
  },
  {
   "cell_type": "markdown",
   "id": "9d50f2be-1e7f-4289-84af-486251d1a38a",
   "metadata": {},
   "source": [
    "The decimal to binary coverter would look like this "
   ]
  },
  {
   "cell_type": "code",
   "execution_count": 3,
   "id": "fb314a45-1ea1-440b-b476-cf39cf036e67",
   "metadata": {},
   "outputs": [
    {
     "name": "stdin",
     "output_type": "stream",
     "text": [
      " 17\n"
     ]
    },
    {
     "name": "stdout",
     "output_type": "stream",
     "text": [
      "[1, 0, 0, 0, 1]\n"
     ]
    }
   ],
   "source": [
    "n = int(input())\n",
    "i = 2\n",
    "list = []\n",
    "if (n%2 == 0):\n",
    "    list.append(0)\n",
    "else:\n",
    "    list.append(1)\n",
    "while (n//i >= 1):\n",
    "        remainder = (n//i)%2 # The zero-division error\n",
    "        list.append(remainder)\n",
    "        i = i*2\n",
    "list = list[::-1]\n",
    "print(\"\".join(str(list)))"
   ]
  },
  {
   "cell_type": "markdown",
   "id": "d3888b42-08da-4f7e-bbad-a4f304267c54",
   "metadata": {},
   "source": [
    "Cool article to check data types of a list :https://stackoverflow.com/questions/46919820/python-check-for-data-type-in-list"
   ]
  },
  {
   "cell_type": "markdown",
   "id": "74f26be4-4ca0-4660-b592-7bbf2ef16e4c",
   "metadata": {},
   "source": [
    "### Making an Iterator function"
   ]
  },
  {
   "cell_type": "code",
   "execution_count": 4,
   "id": "d41e958f-2b42-48b0-9173-ea800aedde80",
   "metadata": {},
   "outputs": [],
   "source": [
    "def iterator(n):\n",
    "    for i in range(1,n+1):\n",
    "        print(i)\n",
    "    "
   ]
  },
  {
   "cell_type": "markdown",
   "id": "2f502a12-077c-4a30-8d5a-326d1e5968cc",
   "metadata": {},
   "source": [
    "### Making a converter function "
   ]
  },
  {
   "cell_type": "code",
   "execution_count": 5,
   "id": "ac0520bd-beb4-41a9-9853-588d0b566e10",
   "metadata": {},
   "outputs": [],
   "source": [
    "def converter(n):\n",
    "    n = int(n)\n",
    "    i = 2\n",
    "    list = []\n",
    "    if (n%2 == 0):\n",
    "        list.append(0)\n",
    "    else:\n",
    "        list.append(1)\n",
    "    while (n//i >= 1):\n",
    "            remainder = (n//i)%2 # The zero-division error\n",
    "            list.append(remainder)\n",
    "            i = i*2\n",
    "    list = list[::-1]\n",
    "    num = int(''.join(map(str,list))) # This lines joins the integers in one single integer object.\n",
    "    # it is possible that .join only works with string.\n",
    "    print(num)\n"
   ]
  },
  {
   "cell_type": "markdown",
   "id": "73bddabe-1de2-40ce-9250-723ea287968a",
   "metadata": {},
   "source": [
    "Another possible solution is that you keep the values as int and concatenate into a single object : https://stackoverflow.com/questions/489999/convert-list-of-ints-to-one-number"
   ]
  },
  {
   "cell_type": "code",
   "execution_count": 6,
   "id": "d50dd1ef-96f3-4a6e-a218-6bfba76758d3",
   "metadata": {},
   "outputs": [],
   "source": [
    "num = int(\"\".join(map(str,list)))\n",
    "\n",
    "#Long method\n",
    "#lst = [0, 2, 2]\n",
    "#s = map(str, lst )\n",
    "#s = \"\".join(s)\n",
    "#s = int(s)\n",
    "#print(s)"
   ]
  },
  {
   "cell_type": "markdown",
   "id": "ba0b19a5-dfde-48aa-a08e-664052a3983f",
   "metadata": {},
   "source": [
    "The above code takes the values and coverts them into string and then back to int. \n",
    "\n",
    "But the problem is that it removes any additional zeros at the beginning But this does not cause a problem in binary as all numbers start from 1."
   ]
  },
  {
   "cell_type": "markdown",
   "id": "1f5159a3-ff28-4365-8932-33015d5b71b2",
   "metadata": {},
   "source": [
    "If possible convert the iterator into a function or you can use the list N to iterate into binary to decimal.\n",
    "\n",
    "Again that can also be coverted to a function."
   ]
  },
  {
   "cell_type": "markdown",
   "id": "c5f1eeb7-28dc-47cc-b9ea-8cb2a33f79be",
   "metadata": {},
   "source": [
    "For now we have a decimal to binary converter, and a iterator.\n",
    "\n",
    "Now we can either\n",
    "1. Combine these 2 (using them as functions)\n",
    "2. Use them separately."
   ]
  },
  {
   "cell_type": "markdown",
   "id": "b8e4c4fe-558b-43ae-ae95-4daace24b402",
   "metadata": {},
   "source": [
    "### Combining the functions"
   ]
  },
  {
   "cell_type": "markdown",
   "id": "ad4ac019-9d17-4cb4-a8e4-dd6d5497234c",
   "metadata": {},
   "source": [
    "Source : https://stackoverflow.com/questions/62739925/how-to-combine-two-functions-in-python"
   ]
  },
  {
   "cell_type": "markdown",
   "id": "c363a14b-b791-4bcf-acad-780282beb803",
   "metadata": {},
   "source": [
    "### Modify decimal to binary to add iterator functionality."
   ]
  },
  {
   "cell_type": "code",
   "execution_count": 7,
   "id": "1fcd78ed-c6fa-42bb-b5f7-d3974630bc21",
   "metadata": {},
   "outputs": [],
   "source": [
    "from decimal_to_binary_converter import converter\n",
    "\n",
    "def combine(n):\n",
    "    n = int(n)\n",
    "    for _ in range(1,n+1): # Use range functionality to get the required AP of cd 1\n",
    "        converter(_)\n",
    "\n",
    "#combine(17)\n"
   ]
  },
  {
   "cell_type": "markdown",
   "id": "e0f45260-912b-4f72-b8a2-a1fd3fc0fbfd",
   "metadata": {},
   "source": [
    "### Octal converter"
   ]
  },
  {
   "cell_type": "markdown",
   "id": "24de2c27-a127-4de2-85c7-e9aa66e11b37",
   "metadata": {},
   "source": [
    "It follows the same logic of a decimal converter but with 8 , and then we can modify if else statements "
   ]
  },
  {
   "cell_type": "code",
   "execution_count": 8,
   "id": "14d57ddd-4f98-46f5-82f0-178fbc683e3e",
   "metadata": {},
   "outputs": [],
   "source": [
    "def oct_converter(n):\n",
    "    n = int(n)\n",
    "    i = 8\n",
    "    list = []\n",
    "    while (n//i >= 1):\n",
    "            remainder = (n//i)%8 # The zero-division error\n",
    "            list.append(remainder)\n",
    "            i = i*8\n",
    "    list = list[::-1]\n",
    "    num = int(''.join(map(str,list))) # This lines joins the integers in one single integer object.\n",
    "    # it is possible that .join only works with string.\n",
    "    print(num)\n",
    "#octal_converter(700)\n"
   ]
  },
  {
   "cell_type": "markdown",
   "id": "c85e8643-ecb0-4931-bba8-c80fc330ead7",
   "metadata": {},
   "source": [
    "### Combined converter of simple-iteration, binary iteration and octal iteration"
   ]
  },
  {
   "cell_type": "code",
   "execution_count": 10,
   "id": "186a75e8-e8f5-4cb2-83bb-4449b5b8be8b",
   "metadata": {},
   "outputs": [
    {
     "name": "stdout",
     "output_type": "stream",
     "text": [
      "144\n"
     ]
    },
    {
     "name": "stdin",
     "output_type": "stream",
     "text": [
      " 5\n"
     ]
    },
    {
     "name": "stdout",
     "output_type": "stream",
     "text": [
      "1\n",
      "2\n",
      "3\n",
      "4\n",
      "5\n",
      "1\n",
      "10\n",
      "11\n",
      "100\n",
      "101\n",
      "1\n",
      "2\n",
      "3\n",
      "4\n",
      "5\n"
     ]
    }
   ],
   "source": [
    "from iterator import string_format\n",
    "from decimal_to_binary_converter import converter\n",
    "from octal_converter import oct_converter\n",
    "\n",
    "n = int(input())\n",
    "iterator(n) # The iterator will not have a for loop as it might duplicate data.\n",
    "for i in range(1,n+1):\n",
    "    converter(i)\n",
    "for i in range(1,n+1):\n",
    "    oct_converter(i)"
   ]
  },
  {
   "cell_type": "markdown",
   "id": "1b74d60b-53de-498f-875e-629020879ed8",
   "metadata": {},
   "source": [
    "### Data structure for Hexadecimal"
   ]
  },
  {
   "cell_type": "markdown",
   "id": "a9d94fdb-0994-4a49-8e29-77ff69bbbeee",
   "metadata": {},
   "source": [
    "We can either use \n",
    "1. Dictionary (key, value pair) \n",
    "2. List (2 separate lists and match their index numbers)\n",
    "3. Tuple ( same as with lists)\n",
    "4. Simple if statements ( each iteration has a value assigned to it)"
   ]
  },
  {
   "cell_type": "markdown",
   "id": "e9f4f368-2b51-48a3-a8cd-024ab74294eb",
   "metadata": {},
   "source": [
    "For this purpose we are going to use a **Dictionary**"
   ]
  },
  {
   "cell_type": "markdown",
   "id": "5d62fe92-a317-43ed-8bea-dd5495d3d476",
   "metadata": {},
   "source": [
    "### Matching dictionary items with other items and replacement "
   ]
  },
  {
   "cell_type": "markdown",
   "id": "fb46ffd8-e7b3-4443-b441-1a7226ed6a58",
   "metadata": {},
   "source": [
    "### Why the previous code does not work on hexadecimal"
   ]
  },
  {
   "cell_type": "markdown",
   "id": "3ad1b5b1-43f3-49c4-81bc-1bc42eb0ed0d",
   "metadata": {},
   "source": [
    " The join code needs to converted finally into an int whereas the hexadecimal contains a string."
   ]
  },
  {
   "cell_type": "markdown",
   "id": "19e16089-b5dc-4c77-b89e-560db815036a",
   "metadata": {},
   "source": [
    "The possible solution to that would be to change the join code to something that does not need final converstion to int."
   ]
  },
  {
   "cell_type": "markdown",
   "id": "fa21a673-83c3-45be-b05e-4aaf4cd1642f",
   "metadata": {},
   "source": [
    "This could possibly mean altering the **existing code or completely replacing it** with a new one."
   ]
  },
  {
   "cell_type": "markdown",
   "id": "ff097d7b-a6d2-4d1d-8272-52084c6d9f7d",
   "metadata": {},
   "source": [
    "Let's first try altering the existing code and for that we need to understand that code. <br>\n",
    "More specifically the join function."
   ]
  },
  {
   "cell_type": "code",
   "execution_count": null,
   "id": "51e6222b-666b-4498-aa64-d7ccc0ffb46c",
   "metadata": {},
   "outputs": [],
   "source": [
    " num = int(\n",
    "        \"\".join(map(str, list)))"
   ]
  },
  {
   "cell_type": "markdown",
   "id": "14c1a210-0965-4a4f-b391-aa8cee6f2971",
   "metadata": {},
   "source": [
    "1. The above code takes the list eg> [1,2,3,4 ...] <br>\n",
    "2. Which is essentially a list of intgers and then maps them (converts them ) string<br>\n",
    "3. Then it joins them into a single string.<br>\n",
    "~ Maybe conversion into string is necessary for joining them.<br>\n",
    "~ UPDATE : IT DOES NOT, IT STILL WORKS.\n",
    "4. Converts it back to a single integer."
   ]
  },
  {
   "cell_type": "markdown",
   "id": "e5cf960d-987d-49b9-9c64-656092ec0d6b",
   "metadata": {},
   "source": [
    "**Hence we can do with altering the int in the join function**"
   ]
  },
  {
   "cell_type": "markdown",
   "id": "c9737dbe-653b-4dee-a375-8ad2c0799eed",
   "metadata": {},
   "source": [
    "### Code modification of hexadecimal"
   ]
  },
  {
   "cell_type": "markdown",
   "id": "ca01caf0-e6b7-474c-852b-e3ee7ac2b5f1",
   "metadata": {},
   "source": [
    "Apart from altering the code we also need to work with matching the remainder with <br>\n",
    "the specific key of the dictionary item and repalce with the matching value of the dictionary."
   ]
  },
  {
   "cell_type": "markdown",
   "id": "a22fdc59-3d76-4386-b7ba-090f67bd34e4",
   "metadata": {},
   "source": [
    "The dicionary key would need to be a string and the value will also have to be a string since we aren't using int"
   ]
  },
  {
   "cell_type": "markdown",
   "id": "94224ae0-b827-4aee-bfb0-350a6203c52a",
   "metadata": {},
   "source": [
    "### Placement of the loop which converts to dictionary value."
   ]
  },
  {
   "cell_type": "markdown",
   "id": "d91750b7-1b0b-4e3f-8336-7db45f6c70f5",
   "metadata": {},
   "source": [
    "Question is where can you place this loop \n",
    "1. Inside the while loop ( which will make it run each time)\n",
    "2. Outside the while loop ( which saves some computation time)"
   ]
  },
  {
   "cell_type": "markdown",
   "id": "59a69cd2-6488-4667-8088-02c8c8400804",
   "metadata": {},
   "source": [
    "Judging by the above 2. Seems like the most viable option."
   ]
  },
  {
   "cell_type": "markdown",
   "id": "cf93ff6e-8ee2-44b4-b039-8c59ff2ba296",
   "metadata": {},
   "source": [
    "### Experiment code 1"
   ]
  },
  {
   "cell_type": "code",
   "execution_count": null,
   "id": "ff55b28b-2a73-40bd-a7cc-a790c0f1a96a",
   "metadata": {},
   "outputs": [],
   "source": [
    "def hex_converter(n):\n",
    "    dict = {\"10\": \"A\", \"11\": \"B\", \"12\": \"C\", \"13\": \"D\", \"14\": \"E\", \"15\": \"F\"}\n",
    "    n = int(n)\n",
    "    i = 16\n",
    "    list = []\n",
    "    if n % 16 == 0:\n",
    "        list.append(0)\n",
    "    else:\n",
    "        list.append(n % 16)\n",
    "    while n // i >= 1:\n",
    "        remainder = (n // i) % 16  # The zero-division error\n",
    "        list.append(remainder)\n",
    "        i = i * 16\n",
    "    list = list[::-1]\n",
    "    print(list)\n",
    "    for i in list:\n",
    "        if str(i) in dict:\n",
    "            print(\"found it\")\n",
    "            print(i)\n",
    "            i = dict.get\n",
    "        num = \"\".join(map(str, list))\n",
    "        # This lines joins the integers in one single integer object.\n",
    "        # it is possible that .join only works with string.\n",
    "        print(num)\n",
    "\n",
    "\n",
    "hex_converter(124234)\n"
   ]
  },
  {
   "cell_type": "markdown",
   "id": "524df03c-991a-48ed-9b4e-4eb12c764ee5",
   "metadata": {},
   "source": [
    "The above code manages to find out the anomalies such as 10 and 14"
   ]
  },
  {
   "cell_type": "markdown",
   "id": "5c92a77c-0aa9-4e97-9b8a-c034601bfa45",
   "metadata": {},
   "source": [
    "Also if you want to keep the iterations in for loop limited you should use the len function"
   ]
  },
  {
   "cell_type": "markdown",
   "id": "5e7237f8-f390-499a-9541-00ce1532e678",
   "metadata": {},
   "source": [
    "For the above code we can try **Method 5: Using List Slicing** <br>\n",
    "Source : https://www.geeksforgeeks.org/how-to-replace-values-in-a-list-in-python/"
   ]
  },
  {
   "cell_type": "markdown",
   "id": "dd52d4dc-6cd2-4571-b5c1-d8dc757981e2",
   "metadata": {},
   "source": [
    "The syntax for list slicing is <br>\n",
    "Syntax: l=l[:index]+[‘new_value’]+l[index+1:]"
   ]
  },
  {
   "cell_type": "markdown",
   "id": "a176c2a1-1f82-4ef8-aa89-7e75ab51690f",
   "metadata": {},
   "source": [
    "### Experiment code 2"
   ]
  },
  {
   "cell_type": "code",
   "execution_count": null,
   "id": "7689aaf0-5a3a-4d3c-b517-65402c572f5b",
   "metadata": {},
   "outputs": [],
   "source": [
    "def hex_converter(n):\n",
    "    dict = {\"10\": \"A\", \"11\": \"B\", \"12\": \"C\", \"13\": \"D\", \"14\": \"E\", \"15\": \"F\"}\n",
    "    n = int(n)\n",
    "    i = 16\n",
    "    list = []\n",
    "    if n % 16 == 0:\n",
    "        list.append(0)\n",
    "    else:\n",
    "        list.append(n % 16)\n",
    "    while n // i >= 1:\n",
    "        remainder = (n // i) % 16  # The zero-division error\n",
    "        list.append(remainder)\n",
    "        i = i * 16\n",
    "    list = list[::-1]\n",
    "    print(list)\n",
    "    for i in list:\n",
    "        if str(i) in dict:\n",
    "            ind = list.index(i)\n",
    "            # print(ind)\n",
    "            for d, v in dict.items():\n",
    "                list = list[:ind] + [dict.get(d)] + list[ind + 1 :]\n",
    "\n",
    "            # print(\"found it\")\n",
    "            # print(i)\n",
    "        num = \"\".join(map(str, list))\n",
    "        # This lines joins the integers in one single integer object.\n",
    "        # it is possible that .join only works with string.\n",
    "        print(num)\n",
    "\n",
    "\n",
    "hex_converter(124234)\n"
   ]
  },
  {
   "cell_type": "markdown",
   "id": "dab93d37-a4af-4f59-888c-cfddd2e1017f",
   "metadata": {},
   "source": [
    "There are 3 problems with this code \n",
    "1. We get the value of 15 in place of 14\n",
    "2. The value of 14 is registered throughout and also used in place of 10.\n",
    "3. Also , how does the value of d in dictionary work but v does not ; Ideally it should be <br>\n",
    "the other way round."
   ]
  },
  {
   "cell_type": "markdown",
   "id": "620e6a86-ccff-44f4-a90e-4601f1759cd7",
   "metadata": {},
   "source": []
  },
  {
   "cell_type": "markdown",
   "id": "09f77e4c-3cde-4b6e-9538-098cff7a3065",
   "metadata": {},
   "source": [
    "To make this problem easier <br>\n",
    "You have a list = ['1','2'] <br>\n",
    "And a dict = {'1':'a', '2':'b'}<br>\n",
    "You want final_list = ['a','b'] "
   ]
  },
  {
   "cell_type": "markdown",
   "id": "aa3eb05b-7bf5-4cce-bc42-e0f48baf2179",
   "metadata": {},
   "source": [
    " ### Simple replacement using a dictionary"
   ]
  },
  {
   "cell_type": "code",
   "execution_count": null,
   "id": "cb3c1ec1-5420-4bb9-a23f-4289b2dd36da",
   "metadata": {},
   "outputs": [],
   "source": [
    "# define list\n",
    "l = [\"Hardik\", \"Rohit\", \"Rahul\", \"Virat\", \"Pant\"]\n",
    "d = {\"Hardik\": \"123\"}\n",
    "for i in range(len(l)):\n",
    "    for k,v in d.items():\n",
    "        print(v)"
   ]
  },
  {
   "cell_type": "markdown",
   "id": "538afaa6-8091-4234-b450-b9d308dced13",
   "metadata": {},
   "source": [
    "### Successful replacement of dictionary values in a list"
   ]
  },
  {
   "cell_type": "code",
   "execution_count": null,
   "id": "569e3e4d-d966-46c8-aff3-c8266e440702",
   "metadata": {},
   "outputs": [],
   "source": [
    "# define list\n",
    "l = [\"Hardik\", \"Rohit\", \"Rahul\", \"Virat\", \"Pant\"]\n",
    "d = {\"Hardik\": \"123\", \"Rohit\": \"355\", \"Mbappe\": \"7\"}\n",
    "for i in l:\n",
    "    for k, v in d.items():\n",
    "        if i in k:\n",
    "            ind = l.index(i)\n",
    "            l[ind] = v\n",
    "print(l)"
   ]
  },
  {
   "cell_type": "markdown",
   "id": "862d4dcb-6823-4743-ab24-16ad84838ae9",
   "metadata": {},
   "source": [
    "### New Update with a new error "
   ]
  },
  {
   "cell_type": "code",
   "execution_count": null,
   "id": "34eb3086-e98a-46e8-b94b-fd61461aaa37",
   "metadata": {},
   "outputs": [],
   "source": [
    "def hex_converter(n):\n",
    "    dict = {\"10\": \"A\", \"11\": \"B\", \"12\": \"C\", \"13\": \"D\", \"14\": \"E\", \"15\": \"F\"}\n",
    "    n = int(n)\n",
    "    i = 16\n",
    "    list = []\n",
    "    if n % 16 == 0:\n",
    "        list.append(str(\"0\"))\n",
    "    else:\n",
    "        list.append(str(n % 16))\n",
    "    while n // i >= 1:\n",
    "        remainder = (n // i) % 16  # The zero-division error\n",
    "        list.append(str(remainder))\n",
    "        i = i * 16\n",
    "    list = list[::-1]\n",
    "    # Until here it genetrates a list and reversed it.\n",
    "    # for i in list:\n",
    "\n",
    "    # print(type(i))\n",
    "\n",
    "    for _ in list:\n",
    "        for d, v in dict.items():\n",
    "            if _ in d:\n",
    "                ind = list.index(_)\n",
    "                list[ind] = v\n",
    "    print(list)\n",
    "\n",
    "    # print(\"found it\")\n",
    "    # print(i)\n",
    "    num = \"\".join(map(str, list))\n",
    "    # This lines joins the integers in one single integer object.\n",
    "    # it is possible that .join only works with string.\n",
    "    print(num)\n",
    "\n",
    "\n",
    "hex_converter(124234)\n"
   ]
  },
  {
   "cell_type": "markdown",
   "id": "a4fe5253-c15f-4aab-9034-1f6439c34a6a",
   "metadata": {},
   "source": [
    "The lines 20 - 25 mandatorily look for each item satisfying the list.<br>\n",
    "This can be checked by using \"not in\" instead of \"in\""
   ]
  },
  {
   "cell_type": "markdown",
   "id": "78fcfefc-6556-4c95-8c8d-c3ffb16c1090",
   "metadata": {},
   "source": [
    "### Something is wrong with this bit of code"
   ]
  },
  {
   "cell_type": "code",
   "execution_count": null,
   "id": "307034d7-f6a8-4e89-a2ea-6b569681f87d",
   "metadata": {},
   "outputs": [],
   "source": [
    "# define list\n",
    "list = [\"1\", \"14\", \"11\", \"Rohit\", \"Rahul\", \"Virat\", \"Pant\", \"pantaloons\"]\n",
    "dict = {\"Hardik\": \"123\", \"Rohit\": \"355\", \"Mbappe\": \"7\", \"114\": \"A\"}\n",
    "for i in list:\n",
    "    for k, v in dict.items():\n",
    "        if i in k: # Problem line\n",
    "            ind = list.index(i)\n",
    "            list[ind] = v \n",
    "print(list)\n"
   ]
  },
  {
   "cell_type": "markdown",
   "id": "f065b8b9-a14d-458a-a491-a7ea9b45fee1",
   "metadata": {},
   "source": [
    "The problem is with the \"in\" the in checks for membership and converts each item in the list which matches even a single element of <br>\n",
    "of the key value of dictionary <br>\n",
    "<br>\n",
    "Example > 1, 14, 11 all match the 114 key for A <br>\n",
    "The output would be 'A' value for all instances.<br>\n",
    "***This could be the problem here but it could be a potential solution for a previous problem***"
   ]
  },
  {
   "cell_type": "markdown",
   "id": "3207f337-d0e4-400e-a7d6-23871cf28e8e",
   "metadata": {},
   "source": [
    "**Correction of the above code**"
   ]
  },
  {
   "cell_type": "code",
   "execution_count": null,
   "id": "f6d77a87-099a-4a79-9121-a1ab1ea52dac",
   "metadata": {},
   "outputs": [],
   "source": [
    "    for i in list:\n",
    "        for k, v in dict.items():\n",
    "            if i == k: # If and only if\n",
    "                ind = list.index(i)\n",
    "                list[ind] = v\n",
    "    print(list)"
   ]
  },
  {
   "cell_type": "markdown",
   "id": "ab7441b7-f839-4e16-a56d-84fa89785f23",
   "metadata": {},
   "source": [
    "### Formatting a part of the string"
   ]
  },
  {
   "cell_type": "markdown",
   "id": "9a4b88ce-5bbb-4d66-80e3-9c697a7e76a3",
   "metadata": {},
   "source": [
    "### Using ljust , center and rjust"
   ]
  },
  {
   "cell_type": "code",
   "execution_count": 1,
   "id": "47603150-e0e4-48b9-b197-7e01a9ec7bf2",
   "metadata": {},
   "outputs": [
    {
     "name": "stdout",
     "output_type": "stream",
     "text": [
      "rome----------------\n"
     ]
    }
   ],
   "source": [
    "width = 20\n",
    "print ('rome'.ljust(width,'-'))"
   ]
  },
  {
   "cell_type": "code",
   "execution_count": null,
   "id": "e80d7b3e-7deb-483c-b6b7-24972c52561b",
   "metadata": {},
   "outputs": [],
   "source": []
  }
 ],
 "metadata": {
  "kernelspec": {
   "display_name": "Python 3 (ipykernel)",
   "language": "python",
   "name": "python3"
  },
  "language_info": {
   "codemirror_mode": {
    "name": "ipython",
    "version": 3
   },
   "file_extension": ".py",
   "mimetype": "text/x-python",
   "name": "python",
   "nbconvert_exporter": "python",
   "pygments_lexer": "ipython3",
   "version": "3.11.3"
  }
 },
 "nbformat": 4,
 "nbformat_minor": 5
}

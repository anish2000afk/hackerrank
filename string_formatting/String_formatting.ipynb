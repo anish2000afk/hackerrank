{
 "cells": [
  {
   "cell_type": "markdown",
   "id": "44f13a7c-3f64-4cc7-aa4e-dbd21217a1d3",
   "metadata": {},
   "source": [
    "Check out the ways for converting decimal to binary https://www.wikihow.com/Convert-from-Decimal-to-Binary"
   ]
  },
  {
   "cell_type": "markdown",
   "id": "31f7b90c-8d9d-4880-a73d-54c14a32ecf2",
   "metadata": {},
   "source": [
    "**Short division** : Divide by 2 ; grab the remainders and reverse the list.\n",
    "**Descending powers** of 2 : Reduce by the greatest powers of 2. "
   ]
  },
  {
   "cell_type": "markdown",
   "id": "817a2aba-279e-43db-9d37-e45177d71db9",
   "metadata": {},
   "source": [
    "Continuing with short division method."
   ]
  },
  {
   "cell_type": "markdown",
   "id": "9d50f2be-1e7f-4289-84af-486251d1a38a",
   "metadata": {},
   "source": [
    "The decimal to binary coverter would look like this "
   ]
  },
  {
   "cell_type": "code",
   "execution_count": 1,
   "id": "fb314a45-1ea1-440b-b476-cf39cf036e67",
   "metadata": {},
   "outputs": [
    {
     "name": "stdin",
     "output_type": "stream",
     "text": [
      " 10\n"
     ]
    },
    {
     "name": "stdout",
     "output_type": "stream",
     "text": [
      "[1, 0, 1, 0]\n"
     ]
    }
   ],
   "source": [
    "n = int(input())\n",
    "i = 2\n",
    "list = []\n",
    "if (n%2 == 0):\n",
    "    list.append(0)\n",
    "else:\n",
    "    list.append(1)\n",
    "while (n//i >= 1):\n",
    "        remainder = (n//i)%2 # The zero-division error\n",
    "        list.append(remainder)\n",
    "        i = i*2\n",
    "list = list[::-1]\n",
    "print(\"\".join(str(list)))"
   ]
  },
  {
   "cell_type": "markdown",
   "id": "d3888b42-08da-4f7e-bbad-a4f304267c54",
   "metadata": {},
   "source": [
    "Cool article to check data types of a list :https://stackoverflow.com/questions/46919820/python-check-for-data-type-in-list"
   ]
  },
  {
   "cell_type": "markdown",
   "id": "74f26be4-4ca0-4660-b592-7bbf2ef16e4c",
   "metadata": {},
   "source": [
    "### Making an Iterator function"
   ]
  },
  {
   "cell_type": "code",
   "execution_count": null,
   "id": "d41e958f-2b42-48b0-9173-ea800aedde80",
   "metadata": {},
   "outputs": [],
   "source": [
    "def iterator(n):\n",
    "    for i in range(1,n+1):\n",
    "        print(i)\n",
    "    "
   ]
  },
  {
   "cell_type": "markdown",
   "id": "2f502a12-077c-4a30-8d5a-326d1e5968cc",
   "metadata": {},
   "source": [
    "### Making a converter function "
   ]
  },
  {
   "cell_type": "code",
   "execution_count": 6,
   "id": "ac0520bd-beb4-41a9-9853-588d0b566e10",
   "metadata": {},
   "outputs": [],
   "source": [
    "def converter(n):\n",
    "    n = int(n)\n",
    "    i = 2\n",
    "    list = []\n",
    "    if (n%2 == 0):\n",
    "        list.append(0)\n",
    "    else:\n",
    "        list.append(1)\n",
    "    while (n//i >= 1):\n",
    "            remainder = (n//i)%2 # The zero-division error\n",
    "            list.append(remainder)\n",
    "            i = i*2\n",
    "    list = list[::-1]\n",
    "    num = int(''.join(map(str,list))) # This lines joins the integers in one single integer object.\n",
    "    # it is possible that .join only works with string.\n",
    "    print(num)\n"
   ]
  },
  {
   "cell_type": "markdown",
   "id": "73bddabe-1de2-40ce-9250-723ea287968a",
   "metadata": {},
   "source": [
    "Another possible solution is that you keep the values as int and concatenate into a single object : https://stackoverflow.com/questions/489999/convert-list-of-ints-to-one-number"
   ]
  },
  {
   "cell_type": "code",
   "execution_count": 7,
   "id": "d50dd1ef-96f3-4a6e-a218-6bfba76758d3",
   "metadata": {},
   "outputs": [
    {
     "name": "stdout",
     "output_type": "stream",
     "text": [
      "22\n"
     ]
    }
   ],
   "source": [
    "num = int(\"\".join(map(str,list)))\n",
    "\n",
    "#Long method\n",
    "#lst = [0, 2, 2]\n",
    "#s = map(str, lst )\n",
    "#s = \"\".join(s)\n",
    "#s = int(s)\n",
    "#print(s)"
   ]
  },
  {
   "cell_type": "markdown",
   "id": "ba0b19a5-dfde-48aa-a08e-664052a3983f",
   "metadata": {},
   "source": [
    "The above code takes the values and coverts them into string and then back to int. \n",
    "\n",
    "But the problem is that it removes any additional zeros at the beginning But this does not cause a problem in binary as all numbers start from 1."
   ]
  },
  {
   "cell_type": "markdown",
   "id": "1f5159a3-ff28-4365-8932-33015d5b71b2",
   "metadata": {},
   "source": [
    "If possible convert the iterator into a function or you can use the list N to iterate into binary to decimal.\n",
    "\n",
    "Again that can also be coverted to a function."
   ]
  },
  {
   "cell_type": "markdown",
   "id": "c5f1eeb7-28dc-47cc-b9ea-8cb2a33f79be",
   "metadata": {},
   "source": [
    "For now we have a decimal to binary converter, and a iterator.\n",
    "\n",
    "Now we can either\n",
    "1. Combine these 2 (using them as functions)\n",
    "2. Use them separately."
   ]
  },
  {
   "cell_type": "markdown",
   "id": "b8e4c4fe-558b-43ae-ae95-4daace24b402",
   "metadata": {},
   "source": [
    "### Combining the functions"
   ]
  },
  {
   "cell_type": "markdown",
   "id": "ad4ac019-9d17-4cb4-a8e4-dd6d5497234c",
   "metadata": {},
   "source": [
    "Source : https://stackoverflow.com/questions/62739925/how-to-combine-two-functions-in-python"
   ]
  },
  {
   "cell_type": "markdown",
   "id": "c363a14b-b791-4bcf-acad-780282beb803",
   "metadata": {},
   "source": [
    "### Modify decimal to binary to add iterator functionality."
   ]
  },
  {
   "cell_type": "code",
   "execution_count": 3,
   "id": "1fcd78ed-c6fa-42bb-b5f7-d3974630bc21",
   "metadata": {},
   "outputs": [
    {
     "name": "stdout",
     "output_type": "stream",
     "text": [
      "1\n",
      "10\n",
      "11\n",
      "100\n",
      "101\n",
      "110\n",
      "111\n",
      "1000\n",
      "1001\n",
      "1010\n",
      "1011\n",
      "1100\n",
      "1101\n",
      "1110\n",
      "1111\n",
      "10000\n",
      "10001\n"
     ]
    }
   ],
   "source": [
    "from decimal_to_binary_converter import converter\n",
    "\n",
    "def combine(n):\n",
    "    n = int(n)\n",
    "    for _ in range(1,n+1): # Use range functionality to get the required AP of cd 1\n",
    "        converter(_)\n",
    "\n",
    "#combine(17)\n"
   ]
  },
  {
   "cell_type": "markdown",
   "id": "e0f45260-912b-4f72-b8a2-a1fd3fc0fbfd",
   "metadata": {},
   "source": [
    "### Octal converter"
   ]
  },
  {
   "cell_type": "markdown",
   "id": "24de2c27-a127-4de2-85c7-e9aa66e11b37",
   "metadata": {},
   "source": [
    "It follows the same logic of a decimal converter but with 8 , and then we can modify if else statements "
   ]
  },
  {
   "cell_type": "code",
   "execution_count": 11,
   "id": "14d57ddd-4f98-46f5-82f0-178fbc683e3e",
   "metadata": {},
   "outputs": [
    {
     "name": "stdout",
     "output_type": "stream",
     "text": [
      "127\n"
     ]
    }
   ],
   "source": [
    "def oct_converter(n):\n",
    "    n = int(n)\n",
    "    i = 8\n",
    "    list = []\n",
    "    while (n//i >= 1):\n",
    "            remainder = (n//i)%8 # The zero-division error\n",
    "            list.append(remainder)\n",
    "            i = i*8\n",
    "    list = list[::-1]\n",
    "    num = int(''.join(map(str,list))) # This lines joins the integers in one single integer object.\n",
    "    # it is possible that .join only works with string.\n",
    "    print(num)\n",
    "#octal_converter(700)\n"
   ]
  },
  {
   "cell_type": "markdown",
   "id": "c85e8643-ecb0-4931-bba8-c80fc330ead7",
   "metadata": {},
   "source": [
    "### Combined converter of simple-iteration, binary iteration and octal iteration"
   ]
  },
  {
   "cell_type": "code",
   "execution_count": null,
   "id": "186a75e8-e8f5-4cb2-83bb-4449b5b8be8b",
   "metadata": {},
   "outputs": [],
   "source": [
    "from string_format import iterator \n",
    "from decimal_to_binary_converter import converter\n",
    "from octal_converter import oct_converter\n",
    "\n",
    "n = int(input())\n",
    "iterator(n) # The iterator will not have a for loop as it might duplicate data.\n",
    "for i in range(1,n+1):\n",
    "    converter(i)\n",
    "for i in range(1,n+1):\n",
    "    oct_converter(i)"
   ]
  },
  {
   "cell_type": "markdown",
   "id": "1b74d60b-53de-498f-875e-629020879ed8",
   "metadata": {},
   "source": [
    "### Data structure for Hexadecimal"
   ]
  },
  {
   "cell_type": "markdown",
   "id": "a9d94fdb-0994-4a49-8e29-77ff69bbbeee",
   "metadata": {},
   "source": [
    "We can either use \n",
    "1. Dictionary (key, value pair) \n",
    "2. List (2 separate lists and match their index numbers)\n",
    "3. Tuple ( same as with lists)\n",
    "4. Simple if statements ( each iteration has a value assigned to it)"
   ]
  },
  {
   "cell_type": "markdown",
   "id": "e9f4f368-2b51-48a3-a8cd-024ab74294eb",
   "metadata": {},
   "source": [
    "For this purpose we are going to use a **Dictionary**"
   ]
  },
  {
   "cell_type": "code",
   "execution_count": null,
   "id": "e6f6e244-1d01-41c4-96a2-885dd99f6b85",
   "metadata": {},
   "outputs": [],
   "source": []
  }
 ],
 "metadata": {
  "kernelspec": {
   "display_name": "Python 3 (ipykernel)",
   "language": "python",
   "name": "python3"
  },
  "language_info": {
   "codemirror_mode": {
    "name": "ipython",
    "version": 3
   },
   "file_extension": ".py",
   "mimetype": "text/x-python",
   "name": "python",
   "nbconvert_exporter": "python",
   "pygments_lexer": "ipython3",
   "version": "3.8.10"
  }
 },
 "nbformat": 4,
 "nbformat_minor": 5
}

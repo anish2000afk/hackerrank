{
 "cells": [
  {
   "cell_type": "markdown",
   "id": "44f13a7c-3f64-4cc7-aa4e-dbd21217a1d3",
   "metadata": {},
   "source": [
    "Check out the ways for converting decimal to binary https://www.wikihow.com/Convert-from-Decimal-to-Binary"
   ]
  },
  {
   "cell_type": "markdown",
   "id": "31f7b90c-8d9d-4880-a73d-54c14a32ecf2",
   "metadata": {},
   "source": [
    "**Short division** : Divide by 2 ; grab the remainders and reverse the list.\n",
    "**Descending powers** of 2 : Reduce by the greatest powers of 2. "
   ]
  },
  {
   "cell_type": "markdown",
   "id": "817a2aba-279e-43db-9d37-e45177d71db9",
   "metadata": {},
   "source": [
    "Continuing with short division method."
   ]
  },
  {
   "cell_type": "code",
   "execution_count": null,
   "id": "52ba4fc6-7333-4f28-a363-70ce93f56da7",
   "metadata": {},
   "outputs": [],
   "source": []
  }
 ],
 "metadata": {
  "kernelspec": {
   "display_name": "Python 3 (ipykernel)",
   "language": "python",
   "name": "python3"
  },
  "language_info": {
   "codemirror_mode": {
    "name": "ipython",
    "version": 3
   },
   "file_extension": ".py",
   "mimetype": "text/x-python",
   "name": "python",
   "nbconvert_exporter": "python",
   "pygments_lexer": "ipython3",
   "version": "3.8.10"
  }
 },
 "nbformat": 4,
 "nbformat_minor": 5
}
